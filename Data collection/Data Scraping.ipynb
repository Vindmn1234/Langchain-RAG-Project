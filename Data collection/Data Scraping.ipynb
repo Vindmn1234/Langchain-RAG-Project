{
 "cells": [
  {
   "cell_type": "code",
   "execution_count": 15,
   "metadata": {},
   "outputs": [
    {
     "name": "stdout",
     "output_type": "stream",
     "text": [
      "Requirement already satisfied: newsapi-python in /Users/strawberrysjacky/anaconda3/lib/python3.11/site-packages (0.2.7)\n",
      "Requirement already satisfied: requests<3.0.0 in /Users/strawberrysjacky/anaconda3/lib/python3.11/site-packages (from newsapi-python) (2.31.0)\n",
      "Requirement already satisfied: charset-normalizer<4,>=2 in /Users/strawberrysjacky/anaconda3/lib/python3.11/site-packages (from requests<3.0.0->newsapi-python) (2.0.4)\n",
      "Requirement already satisfied: idna<4,>=2.5 in /Users/strawberrysjacky/anaconda3/lib/python3.11/site-packages (from requests<3.0.0->newsapi-python) (3.4)\n",
      "Requirement already satisfied: urllib3<3,>=1.21.1 in /Users/strawberrysjacky/anaconda3/lib/python3.11/site-packages (from requests<3.0.0->newsapi-python) (1.26.16)\n",
      "Requirement already satisfied: certifi>=2017.4.17 in /Users/strawberrysjacky/anaconda3/lib/python3.11/site-packages (from requests<3.0.0->newsapi-python) (2024.8.30)\n"
     ]
    }
   ],
   "source": [
    "import sys\n",
    "!{sys.executable} -m pip install newsapi-python\n"
   ]
  },
  {
   "cell_type": "code",
   "execution_count": null,
   "metadata": {},
   "outputs": [
    {
     "name": "stdout",
     "output_type": "stream",
     "text": [
      "{'status': 'ok', 'totalResults': 3, 'articles': [{'source': {'id': 'fortune', 'name': 'Fortune'}, 'author': 'Richard Chambers', 'title': 'Don’t let deregulation fool you: Just because a compliance requirement disappears, it doesn’t mean the underlying risk does', 'description': 'Deregulation makes your company’s risk management strategy more important, not less.', 'url': 'https://fortune.com/2025/03/10/deregulation-trump-risk-strategy/', 'urlToImage': 'https://fortune.com/img-assets/wp-content/uploads/2025/03/GettyImages-2196991880-e1741390296325.jpg?resize=1200,600', 'publishedAt': '2025-03-10T11:15:00Z', 'content': 'BYRichard ChambersRichard Chambers is the CEO of Richard F. Chambers &amp; Associates, a global advisory firm for internal audit professionals, and Senior Advisor, Risk and Audit, at AuditBoard.'}, {'source': {'id': 'fortune', 'name': 'Fortune'}, 'author': 'Paul Walker', 'title': 'Gen Z doesn’t lack a work ethic. They’re just uninspired by today’s corporate landscape', 'description': 'We need to encourage what Gen Z brings, rather than ridicule a generation that’s turned off by middle management jobs.', 'url': 'https://fortune.com/2025/03/04/gen-z-work-ethic-corporate-culture/', 'urlToImage': 'https://fortune.com/img-assets/wp-content/uploads/2025/03/GettyImages-1438746353-e1741041084166.jpg?resize=1200,600', 'publishedAt': '2025-03-04T11:26:00Z', 'content': 'BYPaul WalkerPaul Walker is the CEO of FranklinCovey, which assists organizations in building exceptional leaders, teams, and cultures that get results.'}, {'source': {'id': 'fortune', 'name': 'Fortune'}, 'author': 'Keith Dixon', 'title': 'I was sleeping in a Walmart parking lot. Now I own a company', 'description': \"Keith Dixon's life turned around after he joined an employee-owned company—and an employee stock ownership plan.\", 'url': 'https://fortune.com/2025/02/26/employee-owned-companies-careers-benefits-esops/', 'urlToImage': 'https://fortune.com/img-assets/wp-content/uploads/2025/02/keith-dixon-esop.jpg?resize=1200,600', 'publishedAt': '2025-02-26T15:05:19Z', 'content': 'BYKeith DixonKeith Dixon is supply chain manager at AMBAC International, an employee-owned manufacturing company in Elgin, South Carolina.'}]}\n"
     ]
    }
   ],
   "source": [
    "from newsapi import NewsApiClient\n",
    "import datetime\n",
    "\n",
    "\n",
    "newsapi = NewsApiClient(api_key='467b31a812ed4e60a522c57378919e56')\n",
    "\n",
    "from_date = (datetime.datetime.utcnow() - datetime.timedelta(days=28)).strftime('%Y-%m-%d')\n",
    "to_date = datetime.datetime.utcnow().strftime('%Y-%m-%d')\n",
    "\n",
    "# Fetch older news using 'everything' endpoint\n",
    "all_news = newsapi.get_everything(\n",
    "    sources='',  # Remove this to get results from all sources\n",
    "    language='en',\n",
    "    from_param=from_date,  # Start date for news\n",
    "    to=to_date,  # End date for news\n",
    "    sort_by='publishedAt',  # Sort by publication date\n",
    "    page_size=100  # Number of articles per request (max is 100)\n",
    ")\n",
    "\n",
    "# Print or process the results\n",
    "print(all_news)"
   ]
  },
  {
   "cell_type": "code",
   "execution_count": null,
   "metadata": {},
   "outputs": [
    {
     "name": "stdout",
     "output_type": "stream",
     "text": [
      "                   date                                                url\n",
      "0  2025-03-05T23:34:25Z  https://www.theverge.com/news/625075/reddit-wi...\n",
      "1  2025-03-05T23:09:02Z  https://www.theverge.com/policy/624945/trump-u...\n",
      "2  2025-03-05T22:39:53Z  https://www.theverge.com/news/624904/cfpb-digi...\n",
      "3  2025-03-05T22:24:33Z  https://www.theverge.com/good-deals/624975/bos...\n",
      "4  2025-03-05T22:23:29Z  https://www.theverge.com/news/624891/ai-genera...\n"
     ]
    }
   ],
   "source": [
    "import pandas as pd\n",
    "\n",
    "df = pd.DataFrame([(article[\"publishedAt\"], article[\"url\"]) for article in all_news[\"articles\"]],\n",
    "                  columns=[\"date\", \"url\"])\n",
    "\n",
    "df.to_csv(\"url1.csv\", mode='a', index=False, encoding=\"utf-8\", header=False)\n",
    "print(df)"
   ]
  }
 ],
 "metadata": {
  "kernelspec": {
   "display_name": "base",
   "language": "python",
   "name": "python3"
  },
  "language_info": {
   "codemirror_mode": {
    "name": "ipython",
    "version": 3
   },
   "file_extension": ".py",
   "mimetype": "text/x-python",
   "name": "python",
   "nbconvert_exporter": "python",
   "pygments_lexer": "ipython3",
   "version": "3.11.3"
  }
 },
 "nbformat": 4,
 "nbformat_minor": 2
}
