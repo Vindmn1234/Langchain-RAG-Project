{
  "cells": [
    {
      "cell_type": "code",
      "execution_count": null,
      "metadata": {
        "id": "TxKBzw8efVf4"
      },
      "outputs": [],
      "source": [
        "!pip install -U langchain-community\n",
        "!pip install faiss-cpu\n",
        "!pip install tiktoken"
      ]
    },
    {
      "cell_type": "code",
      "execution_count": 4,
      "metadata": {
        "id": "qbzY5hdtCdE4"
      },
      "outputs": [],
      "source": [
        "import pandas as pd\n",
        "import re\n",
        "import nltk\n",
        "from nltk.tokenize import word_tokenize\n",
        "from wordcloud import WordCloud\n",
        "import matplotlib.pyplot as plt\n",
        "from nltk.corpus import stopwords\n",
        "from transformers import pipeline\n",
        "import networkx as nx\n",
        "from collections import Counter\n",
        "import seaborn as sns\n",
        "import matplotlib.pyplot as plt\n",
        "import time\n",
        "from tqdm import tqdm\n",
        "\n",
        "import openai\n",
        "import numpy as np\n",
        "\n",
        "import ast\n",
        "from wordcloud import WordCloud, STOPWORDS\n",
        "import sklearn\n",
        "from transformers import AutoTokenizer, AutoModel\n",
        "import torch\n",
        "from sklearn.decomposition import PCA\n",
        "from tqdm import tqdm\n",
        "from langchain.vectorstores import FAISS\n",
        "from langchain.schema import Document\n",
        "from langchain.text_splitter import RecursiveCharacterTextSplitter\n",
        "from langchain.chains import RetrievalQA\n",
        "from langchain.chat_models import ChatOpenAI\n",
        "from langchain.embeddings import OpenAIEmbeddings\n",
        "from langchain.llms import OpenAI"
      ]
    },
    {
      "cell_type": "code",
      "execution_count": null,
      "metadata": {
        "colab": {
          "base_uri": "https://localhost:8080/"
        },
        "id": "RMb06dFvCkFR",
        "outputId": "ce1e1c54-3280-436e-b45e-a17049aaadfb"
      },
      "outputs": [
        {
          "name": "stdout",
          "output_type": "stream",
          "text": [
            "Mounted at /content/drive\n"
          ]
        }
      ],
      "source": [
        "from google.colab import drive\n",
        "drive.mount('/content/drive')\n",
        "df = pd.read_csv('/content/drive/MyDrive/news_with_embeddings.csv')"
      ]
    },
    {
      "cell_type": "code",
      "execution_count": null,
      "metadata": {
        "id": "voTlfMvGDp8N"
      },
      "outputs": [],
      "source": [
        "# define function to clean the text\n",
        "def clean_text(text):\n",
        "    if isinstance(text, str):\n",
        "        text = re.sub(r'\\n+', ' ', text)\n",
        "        text = re.sub(r'\\s+', ' ', text).strip()\n",
        "        return text.lower()\n",
        "    return \"\"\n",
        "\n",
        "text_columns = df.select_dtypes(include=[\"object\"]).columns\n",
        "\n",
        "for col in text_columns:\n",
        "    df[col] = df[col].apply(clean_text)  #"
      ]
    },
    {
      "cell_type": "markdown",
      "metadata": {},
      "source": [
        "# 1. Named Entity Recognition (NER)"
      ]
    },
    {
      "cell_type": "code",
      "execution_count": null,
      "metadata": {
        "colab": {
          "base_uri": "https://localhost:8080/",
          "height": 711,
          "referenced_widgets": [
            "0e547d6a5dce4bf9ada70ba2acf011f2",
            "313b05531da44489955c6ad8161931e6",
            "b5c11451160647e98cfb9a2d3b7dd9fc",
            "c870e509a1db4d16ae1d06015680ce0c",
            "ee2b420f76cf4943a16056b02ef948bd",
            "3ccd5a81f99945e583364a8386947cc8",
            "909a09d56cb54c349e108547763285a7",
            "67bdb5917e084025868d29e30d661f2e",
            "6830564e1b774d4d9c7df87f2de5307d",
            "e11e8a4f5a974946bc9afd329477c372",
            "8c1f5db7b5a946e499df31328228ef02",
            "4228c03bca6a4af8bd7e617bf4b85499",
            "ef269b812e854c9d88c285d5c6c6dce1",
            "b3644c2539fe411d8842f9fd36cde12e",
            "7f274be36213491c8273756901321923",
            "6325950565ee42dfb9be0140d4815bd6",
            "165e43f3007b4cda8c89669c061c0e87",
            "73e8f5c594f4479186489426dbe76973",
            "cd7e7bd0d4f247d2bac16385900a0352",
            "110305f0c8ce42979aae454ad9ea0300",
            "28b71d518d604cc4aab110cd27d60228",
            "c8342eab6de4498590afc895afd6f2c8",
            "f2582b98820f4138a68b81945f5949b8",
            "4cc75fa7936c4f35bd0b74f4f8a06e1f",
            "40c82979192e45f596c3ba9b5e855257",
            "e6361fc712144f72bb817668fd3837a2",
            "02e799ca5d394e7daadcee9573ea138e",
            "12e25e9f92ba4692914e8a5b800d0112",
            "7e614bd7d2d143d7ba0087d0fae5586a",
            "268ea891550744b88a4a7eff52bc46c6",
            "163da9e0a2744021889f14ccdaa7d5fc",
            "499ec3de967b423ba4b86c3f9c5b5a7b",
            "f548a418b8864fd0bbd7e51e5204896d",
            "e0e24327659445ca97432609a1dabf24",
            "dcbfc05586714353afd060c2f62edaa3",
            "e2b45528edba4941a689fa8896d685cd",
            "4a4576e02be24efab5e15799a194e7ea",
            "9cab088af7804b8c96446dda54b4fa4e",
            "905fa5762401488493fac7781f9537bf",
            "337d78ebe1bd4a539fda4680cbb8f58d",
            "e2efee2236ba4412940b4a390b43ea0e",
            "8ffeb504e53443e5bc645bf24decece6",
            "16ba5a104b0f4f8796db757d9644139c",
            "cbd30f7d7ae14741bbfd20199a3a9af7",
            "43e66fb79c984cd3b340da8e4f565aa9",
            "6d6401d80deb482cb3bea5c4a498f7ab",
            "04ab226e3f9849bd90533e2b91ef491a",
            "941d466d01b04a7ebcb53ef761153815",
            "9353aa73cc3742579f39d80fdfb0ff9d",
            "584c539c3f394b82a04fceeb9d27fc2f",
            "d4f846134916494d97c6ca6f109c668a",
            "6ea4280e040243da9e8f225a2dea08fb",
            "25c8abfa94194b2ca0b16446798deba1",
            "98201b667bad4091b2fa494da8a32b4f",
            "5f6e1fba217347d08f4fcdeed6f8deec",
            "2053b477f3864b94a0440bbcd8cf8be5",
            "b4815c631b054cba9140836cc3d5355a",
            "cfaebf3664154a54ac30c34b012498fd",
            "1998f596d51e4da99dcce9b8bcb90754",
            "f38e3fd7ac18445991038cd0cb49fc7f",
            "3b04ca7858ce4b8abe2220e066a532d2",
            "5ed7d953daa54fe1b28abeb15b4b0b42",
            "9f30d32c9dca4c9ba0ef602719d5b7c9",
            "c21983dadd934a0197467b7fc5df303b",
            "84c93c18689247a29594fa6fe757bcca",
            "c1f7347729144f9492dabbca7cb044bc"
          ]
        },
        "id": "f4eUtXbNDtXg",
        "outputId": "4cea6c92-1939-4963-ea10-dcc38010eb2b"
      },
      "outputs": [
        {
          "name": "stderr",
          "output_type": "stream",
          "text": [
            "/usr/local/lib/python3.11/dist-packages/huggingface_hub/utils/_auth.py:94: UserWarning: \n",
            "The secret `HF_TOKEN` does not exist in your Colab secrets.\n",
            "To authenticate with the Hugging Face Hub, create a token in your settings tab (https://huggingface.co/settings/tokens), set it as secret in your Google Colab and restart your session.\n",
            "You will be able to reuse this secret in all of your notebooks.\n",
            "Please note that authentication is recommended but still optional to access public models or datasets.\n",
            "  warnings.warn(\n"
          ]
        },
        {
          "data": {
            "application/vnd.jupyter.widget-view+json": {
              "model_id": "0e547d6a5dce4bf9ada70ba2acf011f2",
              "version_major": 2,
              "version_minor": 0
            },
            "text/plain": [
              "config.json:   0%|          | 0.00/849 [00:00<?, ?B/s]"
            ]
          },
          "metadata": {},
          "output_type": "display_data"
        },
        {
          "data": {
            "application/vnd.jupyter.widget-view+json": {
              "model_id": "4228c03bca6a4af8bd7e617bf4b85499",
              "version_major": 2,
              "version_minor": 0
            },
            "text/plain": [
              "model.safetensors:   0%|          | 0.00/1.42G [00:00<?, ?B/s]"
            ]
          },
          "metadata": {},
          "output_type": "display_data"
        },
        {
          "data": {
            "application/vnd.jupyter.widget-view+json": {
              "model_id": "f2582b98820f4138a68b81945f5949b8",
              "version_major": 2,
              "version_minor": 0
            },
            "text/plain": [
              "tokenizer_config.json:   0%|          | 0.00/255 [00:00<?, ?B/s]"
            ]
          },
          "metadata": {},
          "output_type": "display_data"
        },
        {
          "data": {
            "application/vnd.jupyter.widget-view+json": {
              "model_id": "e0e24327659445ca97432609a1dabf24",
              "version_major": 2,
              "version_minor": 0
            },
            "text/plain": [
              "vocab.json:   0%|          | 0.00/798k [00:00<?, ?B/s]"
            ]
          },
          "metadata": {},
          "output_type": "display_data"
        },
        {
          "data": {
            "application/vnd.jupyter.widget-view+json": {
              "model_id": "43e66fb79c984cd3b340da8e4f565aa9",
              "version_major": 2,
              "version_minor": 0
            },
            "text/plain": [
              "merges.txt:   0%|          | 0.00/456k [00:00<?, ?B/s]"
            ]
          },
          "metadata": {},
          "output_type": "display_data"
        },
        {
          "data": {
            "application/vnd.jupyter.widget-view+json": {
              "model_id": "2053b477f3864b94a0440bbcd8cf8be5",
              "version_major": 2,
              "version_minor": 0
            },
            "text/plain": [
              "special_tokens_map.json:   0%|          | 0.00/239 [00:00<?, ?B/s]"
            ]
          },
          "metadata": {},
          "output_type": "display_data"
        },
        {
          "name": "stderr",
          "output_type": "stream",
          "text": [
            "Device set to use cuda:0\n",
            "You seem to be using the pipelines sequentially on GPU. In order to maximize efficiency please use a dataset\n"
          ]
        },
        {
          "name": "stdout",
          "output_type": "stream",
          "text": [
            "Processed 10/337 articles...\n",
            "Processed 20/337 articles...\n",
            "Processed 30/337 articles...\n",
            "Processed 40/337 articles...\n",
            "Processed 50/337 articles...\n",
            "Processed 60/337 articles...\n",
            "Processed 70/337 articles...\n",
            "Processed 80/337 articles...\n",
            "Processed 90/337 articles...\n",
            "Processed 100/337 articles...\n",
            "Processed 110/337 articles...\n",
            "Processed 120/337 articles...\n",
            "Processed 130/337 articles...\n",
            "Processed 140/337 articles...\n",
            "Processed 150/337 articles...\n",
            "Processed 160/337 articles...\n",
            "Processed 170/337 articles...\n",
            "Processed 180/337 articles...\n",
            "Processed 190/337 articles...\n"
          ]
        }
      ],
      "source": [
        "# load NER model\n",
        "ner_model = pipeline(\"ner\", model=\"Jean-Baptiste/roberta-large-ner-english\", aggregation_strategy=\"simple\")\n",
        "\n",
        "entity_counter = Counter()\n",
        "ner_entities = []\n",
        "\n",
        "# loop through all documents and extract entities\n",
        "for idx, text_sample in enumerate(df[\"news\"].astype(str)):\n",
        "    ner_results = ner_model(text_sample)  #\n",
        "    entities = [entity['word'] for entity in ner_results]\n",
        "    ner_entities.append(\", \".join(entities))\n",
        "    for entity in entities:\n",
        "        entity_counter[entity] += 1\n",
        "\n",
        "    # print out the process every 10 records\n",
        "    if (idx + 1) % 10 == 0:\n",
        "        print(f\"Processed {idx + 1}/{len(df)} articles...\")\n",
        "\n",
        "df[\"NER_entities\"] = ner_entities"
      ]
    },
    {
      "cell_type": "markdown",
      "metadata": {},
      "source": [
        "# 2. Embedding & FAISS Vector Storage"
      ]
    },
    {
      "cell_type": "markdown",
      "metadata": {},
      "source": [
        "\n",
        "  - Generates embeddings with `text-embedding-ada-002` via LangChain's `OpenAIEmbeddings`.\n",
        "  - Stores embeddings in **FAISS** for fast retrieval."
      ]
    },
    {
      "cell_type": "code",
      "execution_count": null,
      "metadata": {
        "colab": {
          "base_uri": "https://localhost:8080/"
        },
        "id": "8RQhssjvEVTp",
        "outputId": "d88e0f0c-7c35-49ed-9cef-7bc876c14184"
      },
      "outputs": [
        {
          "name": "stderr",
          "output_type": "stream",
          "text": [
            "100%|██████████| 337/337 [01:23<00:00,  4.03it/s]\n"
          ]
        }
      ],
      "source": [
        "# Ensure you have an OpenAI API key\n",
        "openai.api_key = 'xxxxxxxxx'\n",
        "\n",
        "# Function to get embedding\n",
        "def get_embedding(text, model=\"text-embedding-ada-002\"):\n",
        "    try:\n",
        "        response = openai.embeddings.create(input=[text], model=model)  # Updated syntax\n",
        "        return response.data[0].embedding  # Extract embedding vector\n",
        "    except Exception as e:\n",
        "        print(f\"Error processing text: {e}\")\n",
        "        return None\n",
        "\n",
        "# Apply embedding to each row with a progress bar\n",
        "tqdm.pandas()\n",
        "df[\"embeddings\"] = df[\"news\"].astype(str).progress_apply(get_embedding)"
      ]
    },
    {
      "cell_type": "code",
      "execution_count": null,
      "metadata": {
        "id": "8nD0SR5nG4oD"
      },
      "outputs": [],
      "source": [
        "file_path = \"/content/drive/MyDrive/news_with_embeddings.csv\"\n",
        "df.to_csv(file_path, index=False)"
      ]
    },
    {
      "cell_type": "code",
      "execution_count": null,
      "metadata": {
        "id": "LHJXJiBfIqk2"
      },
      "outputs": [],
      "source": [
        "# make sure embeddings is a numpy array format\n",
        "df[\"embeddings\"] = df[\"embeddings\"].apply(lambda x: np.array(x))\n",
        "\n",
        "# create LangChain document object\n",
        "documents = [\n",
        "    Document(page_content=row[\"news\"], metadata={\"date\": row[\"date\"], \"NER_entities\": row[\"NER_entities\"]})\n",
        "    for _, row in df.iterrows()\n",
        "]\n",
        "\n",
        "embedding_vectors = np.vstack(df[\"embeddings\"].values)\n"
      ]
    },
    {
      "cell_type": "code",
      "execution_count": 11,
      "metadata": {
        "colab": {
          "base_uri": "https://localhost:8080/"
        },
        "id": "_THkTk71NDCx",
        "outputId": "90796aa0-fb9c-4233-ff1d-b20e6d146eaa"
      },
      "outputs": [
        {
          "name": "stderr",
          "output_type": "stream",
          "text": [
            "<ipython-input-11-f5e13ed7dc92>:2: LangChainDeprecationWarning: The class `OpenAIEmbeddings` was deprecated in LangChain 0.0.9 and will be removed in 1.0. An updated version of the class exists in the :class:`~langchain-openai package and should be used instead. To use it run `pip install -U :class:`~langchain-openai` and import as `from :class:`~langchain_openai import OpenAIEmbeddings``.\n",
            "  embedding_model = OpenAIEmbeddings(openai_api_key=openai.api_key)\n"
          ]
        }
      ],
      "source": [
        "#  Load OpenAI embeddings model (ONLY for retrieval, NOT for creation)\n",
        "embedding_model = OpenAIEmbeddings(openai_api_key=openai.api_key)"
      ]
    },
    {
      "cell_type": "code",
      "execution_count": null,
      "metadata": {
        "colab": {
          "base_uri": "https://localhost:8080/"
        },
        "id": "SZ3X7cCOhhNQ",
        "outputId": "8cecf987-6193-43fe-ab70-6ada7f99882d"
      },
      "outputs": [
        {
          "name": "stdout",
          "output_type": "stream",
          "text": [
            "Final embeddings shape: (337, 1536)\n"
          ]
        }
      ],
      "source": [
        "# Convert stored embeddings into a NumPy array correctly\n",
        "embedding_vectors = np.array([np.array(emb, dtype=np.float32) for emb in df[\"embeddings\"].values])\n",
        "\n",
        "# Check shape\n",
        "print(\"Final embeddings shape:\", embedding_vectors.shape)  # Should be (num_samples, embedding_dim)"
      ]
    },
    {
      "cell_type": "code",
      "execution_count": null,
      "metadata": {
        "id": "aQsfN4feMaam"
      },
      "outputs": [],
      "source": [
        "# # Extract text and embeddings\n",
        "# texts = df[\"news\"].tolist()  # The text content of the news\n",
        "# embedding_vectors = [np.array(emb) for emb in df[\"embeddings\"].values]  # Convert to list of arrays\n",
        "\n",
        "# # Combine texts and embeddings into pairs (Fix the ValueError issue)\n",
        "# text_embedding_pairs = list(zip(texts, embedding_vectors))\n",
        "\n",
        "# # Create FAISS vector store from precomputed embeddings\n",
        "# vector_db = FAISS.from_embeddings(text_embedding_pairs,embedding_model)\n",
        "\n",
        "# # Save the FAISS index for future use\n",
        "# vector_db.save_local(\"faiss_index\")\n",
        "\n",
        "vector_db = FAISS.from_embeddings(\n",
        "    text_embeddings=list(zip(df[\"news\"].tolist(), embedding_vectors)),\n",
        "    embedding=embedding_model\n",
        ")\n",
        "\n",
        "# Save FAISS index\n",
        "vector_db.save_local(\"faiss_index\")"
      ]
    },
    {
      "cell_type": "markdown",
      "metadata": {},
      "source": [
        "# 3. Retrieval-Augmented Generation (RAG)"
      ]
    },
    {
      "cell_type": "markdown",
      "metadata": {},
      "source": [
        "* Retrieves top k relevant news articles using LangChain’s FAISS retriever.\n",
        "* Uses GPT-4 (via LangChain’s RetrievalQA) to generate accurate, context-aware responses."
      ]
    },
    {
      "cell_type": "code",
      "execution_count": null,
      "metadata": {
        "colab": {
          "base_uri": "https://localhost:8080/"
        },
        "id": "w724Hnf9KMCe",
        "outputId": "5f8d2214-ab9d-43e7-d126-bb2095e15d96"
      },
      "outputs": [
        {
          "name": "stderr",
          "output_type": "stream",
          "text": [
            "<ipython-input-21-0098591341c9>:2: LangChainDeprecationWarning: The class `ChatOpenAI` was deprecated in LangChain 0.0.10 and will be removed in 1.0. An updated version of the class exists in the :class:`~langchain-openai package and should be used instead. To use it run `pip install -U :class:`~langchain-openai` and import as `from :class:`~langchain_openai import ChatOpenAI``.\n",
            "  llm = ChatOpenAI(model_name=\"gpt-4o-mini\", openai_api_key=api_key)\n"
          ]
        }
      ],
      "source": [
        "api_key = 'xxxxxxxxxx'\n",
        "#  Load OpenAI LLM\n",
        "llm = ChatOpenAI(model_name=\"gpt-4o-mini\", openai_api_key=api_key)\n",
        "\n",
        "# retriever = vector_db.as_retriever(search_kwargs={\"k\": 3})\n",
        "retriever = vector_db.as_retriever()\n",
        "qa_chain = RetrievalQA.from_chain_type(llm=llm, retriever=retriever)"
      ]
    },
    {
      "cell_type": "code",
      "execution_count": null,
      "metadata": {
        "colab": {
          "base_uri": "https://localhost:8080/"
        },
        "id": "mYtRvqCRJZSr",
        "outputId": "e2298ffa-a5ba-4ca2-e434-bd31a9377617"
      },
      "outputs": [
        {
          "name": "stderr",
          "output_type": "stream",
          "text": [
            "<ipython-input-47-a85324fc55b8>:2: LangChainDeprecationWarning: The method `Chain.run` was deprecated in langchain 0.1.0 and will be removed in 1.0. Use :meth:`~invoke` instead.\n",
            "  response = qa_chain.run(query)\n"
          ]
        },
        {
          "name": "stdout",
          "output_type": "stream",
          "text": [
            "\n",
            "RAG Response:\n",
            " Tesla's stock recently plunged 15 percent, marking its steepest drop in five years, and is down over 50 percent since its December highs. The company is facing significant sales declines, with a reported 4 percent decrease in car production in 2024 compared to the previous year. Deliveries have remained flat, and sales have dropped sharply in multiple countries, including a nearly 8 percent decline in California.\n",
            "\n",
            "Protests against Tesla and CEO Elon Musk have been occurring at showrooms across the U.S., driven by dissatisfaction with Musk's leadership and political alignment. Additionally, there are concerns about the aging vehicle lineup, as many Tesla models have not seen significant updates in years.\n",
            "\n",
            "Musk has made promises regarding a more affordable electric vehicle, but progress on that front has been slow, and investors are worried about potential cannibalization of existing models. Meanwhile, competition in the electric vehicle market is increasing, particularly from domestic Chinese automakers.\n",
            "\n",
            "Overall, the outlook for Tesla appears uncertain, with analysts questioning whether the company can recover under Musk's leadership.\n"
          ]
        }
      ],
      "source": [
        "query = \"What are the latest updates about Tesla?\"\n",
        "response = qa_chain.run(query)\n",
        "\n",
        "print(\"\\nRAG Response:\\n\", response)"
      ]
    },
    {
      "cell_type": "code",
      "execution_count": 36,
      "metadata": {
        "id": "OZSVK4L1RzZP"
      },
      "outputs": [],
      "source": [
        "def create_enriched_document(row):\n",
        "    \"\"\"\n",
        "    Creates an enriched LangChain Document object from a news dataset row.\n",
        "    This includes the news text, named entities, and metadata such as date.\n",
        "\n",
        "    Args:\n",
        "        row (pd.Series): A row from the dataframe.\n",
        "\n",
        "    Returns:\n",
        "        Document: A LangChain document object.\n",
        "    \"\"\"\n",
        "    return Document(\n",
        "        page_content=f\"\"\"\n",
        "        Date: {row.get('date', 'Unknown')}\n",
        "        News: {row['news']}\n",
        "        **Named Entities:** {row.get('NER_entities', 'None')}\n",
        "        \"\"\",\n",
        "        metadata={\n",
        "            \"date\": row.get(\"date\", \"Unknown\"),  # Ensure \"date\" always exists\n",
        "            \"NER_entities\": row.get(\"NER_entities\", \"None\")\n",
        "        }\n",
        "    )\n",
        "\n",
        " # Apply document creation function to dataset\n",
        "documents = [create_enriched_document(row) for _, row in df.iterrows()]"
      ]
    },
    {
      "cell_type": "code",
      "execution_count": 37,
      "metadata": {
        "id": "JvDvNl2uSdTD"
      },
      "outputs": [],
      "source": [
        "# Define improved smart retrieval function\n",
        "def smart_retrieval(query):\n",
        "    \"\"\"\n",
        "    Performs smart retrieval using FAISS, applying date-based filtering if a specific date is mentioned.\n",
        "    Step 1: If query contains a date, filter retrieved results by that date.\n",
        "    Step 2: Retrieve top results using FAISS similarity search.\n",
        "    Step 3: Use LLM to rank and refine the results, allowing for partial matches.\n",
        "\n",
        "    Args:\n",
        "        query (str): The user's search query.\n",
        "\n",
        "    Returns:\n",
        "        str: The most relevant news articles.\n",
        "    \"\"\"\n",
        "    import re\n",
        "    from datetime import datetime\n",
        "\n",
        "    # Extract date from query if present (basic YYYY-MM-DD or YYYY-MM regex)\n",
        "    date_match = re.search(r\"\\b(202\\d-\\d{2}-\\d{2})\\b\", query) or re.search(r\"\\b(202\\d-\\d{2})\\b\", query)\n",
        "    search_date = date_match.group(0) if date_match else None\n",
        "\n",
        "    # Step 1: Retrieve using FAISS\n",
        "    retrieved_docs = vector_db.similarity_search(query, k=10)\n",
        "\n",
        "    # Step 2: If a date is present, filter retrieved docs by that date\n",
        "    if search_date:\n",
        "        retrieved_docs = [doc for doc in retrieved_docs if search_date in doc.metadata[\"date\"]]\n",
        "\n",
        "    # Step 3: Convert retrieved documents into context for LLM\n",
        "    context = \"\\n\\n\".join([doc.page_content for doc in retrieved_docs])\n",
        "\n",
        "    # Step 4: Use LLM to rank results and allow partial matches\n",
        "    ranked_response = llm.predict(f\"\"\"\n",
        "    You are an AI news assistant. Analyze the retrieved news articles and return the most relevant ones.\n",
        "\n",
        "    User Query: {query}\n",
        "\n",
        "    Retrieved News Articles:\n",
        "    {context}\n",
        "\n",
        "    If the exact date '{search_date}' is not found, return the closest related news instead.\n",
        "    \"\"\")\n",
        "\n",
        "    return ranked_response"
      ]
    },
    {
      "cell_type": "code",
      "execution_count": 26,
      "metadata": {
        "colab": {
          "base_uri": "https://localhost:8080/",
          "height": 181
        },
        "id": "kjmguNSXSyVZ",
        "outputId": "13ccc6b9-3a6f-4675-fd7a-369172db7a25"
      },
      "outputs": [
        {
          "name": "stderr",
          "output_type": "stream",
          "text": [
            "<ipython-input-23-3a946873c04e>:33: LangChainDeprecationWarning: The method `BaseChatModel.predict` was deprecated in langchain-core 0.1.7 and will be removed in 1.0. Use :meth:`~invoke` instead.\n",
            "  ranked_response = llm.predict(f\"\"\"\n"
          ]
        },
        {
          "data": {
            "application/vnd.google.colaboratory.intrinsic+json": {
              "type": "string"
            },
            "text/plain": [
              "\"Here are the most relevant news articles related to events around March 5th:\\n\\n1. **U.S. Stock Market Reactions to Tariffs**: On March 5th, stocks began the day with significant declines due to President Trump's tariffs on imports from Canada and Mexico. The S&P 500 index dropped by as much as 2% early in the trading day, reflecting investor uncertainty over the implications of these tariffs on the economy. The market later showed some recovery but ultimately ended lower. This situation highlighted concerns about the potential economic impact of the tariffs and the overall health of the economy.\\n\\n2. **Options Market Activity**: The article discusses a record surge in activity in the options market, specifically noting that about 59 million options contracts changed hands daily in February, a record high. This increase in activity comes as traders grapple with economic uncertainties, including Trump's tariff threats and inflation concerns, leading to heightened volatility in the stock market.\\n\\n3. **UK Trade Data Delay**: The UK's Office for National Statistics announced a delay in the release of trade figures due to identified errors in the data. This delay, which was prompted by issues related to services trade data for January, is significant as it can impact GDP estimates, which were initially scheduled to be released alongside the trade data. This situation reflects ongoing challenges with the accuracy of official statistics in the UK.\\n\\n4. **Economic Outlook Amidst Tariff Concerns**: The article outlines how President Trump's tariff policies are causing investors to reconsider their outlook on growth, inflation, and the labor market. The upcoming jobs report is expected to be scrutinized more closely than usual due to the economic uncertainties stemming from the tariffs. \\n\\nThese articles collectively provide insight into the economic landscape and market reactions during early March, particularly in relation to the tariffs imposed by President Trump and their broader implications.\""
            ]
          },
          "execution_count": 26,
          "metadata": {},
          "output_type": "execute_result"
        }
      ],
      "source": [
        "smart_retrieval(\"What happened on march 5th?\")"
      ]
    },
    {
      "cell_type": "code",
      "execution_count": null,
      "metadata": {
        "colab": {
          "base_uri": "https://localhost:8080/",
          "height": 143
        },
        "id": "_2YzMBuHS_C5",
        "outputId": "ce9184b8-ea15-4452-cbf2-7ec807a30df5"
      },
      "outputs": [
        {
          "data": {
            "application/vnd.google.colaboratory.intrinsic+json": {
              "type": "string"
            },
            "text/plain": [
              "'Here are some of the most relevant new products that have been recently announced or released:\\n\\n1. **Framework Laptop 12**: A new repairable laptop that has garnered attention for its design and is expected to be popular among PC gamers.\\n\\n2. **Photoshop for iPhone**: For the first time, Adobe has released a mobile version of Photoshop that closely resembles the desktop experience, although it comes with a steeper learning curve.\\n\\n3. **Bose QuietComfort Ultra Earbuds**: These earbuds are noted for their best-in-class noise cancellation and have recently dropped in price to $219. They also feature a new transparency mode and improved sound quality.\\n\\n4. **Nothing Phone 3a and 3a Pro**: These new models come with improved hardware and a unique feature called \"essential space\" for organizing screenshots and voice memos. The 3a Pro includes a periscope telephoto lens.\\n\\n5. **Lenovo Thinkbook Flip Concept**: A laptop that can fold in multiple ways, offering a versatile screen size and functionality.\\n\\n6. **HMD Wireless Amped Buds**: These earbuds come in a case that can also act as a backup battery for your phone, offering active noise cancellation and environmental noise cancellation.\\n\\n7. **Asus Fragrance Mouse**: This unique mouse includes a compartment for essential oils, providing a scented experience while you work.\\n\\n8. **Apple MacBook Air Update**: Apple is set to release updated MacBook Air models featuring M4 chips, expected to launch in March.\\n\\nThese products highlight the latest innovations in tech, from laptops and smartphones to unique accessories and audio gear.'"
            ]
          },
          "execution_count": 53,
          "metadata": {},
          "output_type": "execute_result"
        }
      ],
      "source": [
        "smart_retrieval(\"Any new products that you like came out recently\")"
      ]
    },
    {
      "cell_type": "code",
      "execution_count": null,
      "metadata": {
        "colab": {
          "base_uri": "https://localhost:8080/",
          "height": 196
        },
        "id": "SkxQMYU0TL-c",
        "outputId": "fe97cc35-203e-4ace-dc90-03080864cfc0"
      },
      "outputs": [
        {
          "data": {
            "application/vnd.google.colaboratory.intrinsic+json": {
              "type": "string"
            },
            "text/plain": [
              "\"The most relevant news articles regarding the market's response to Trump, particularly focusing on precise dates, are as follows:\\n\\n1. **March 5, 2025**: U.S. stocks rebounded after the White House announced a one-month tariff reprieve for auto imports from Mexico and Canada. Stocks turned sharply higher after President Trump granted the exemption, indicating potential for more exemptions. The Dow Jones Industrial Average increased by 486 points while tech stocks like Ford and General Motors saw significant gains. However, concerns about the economy and inflation persisted, contributing to market volatility. \\n\\n2. **March 4, 2025**: U.S. stocks extended their slide after President Trump imposed tariffs on imports from Mexico and Canada, with the Dow Jones Industrial Average tumbling 1.6% (about 670 points). The S&P 500 and NASDAQ also experienced declines as investors reacted to uncertainty regarding the new tariffs and their implications for the economy. This marked a significant market downturn following Trump's announcement of the tariffs taking effect at 12:01 a.m. \\n\\n3. **March 6, 2025**: Following Trump's tariff threats, stocks slid further, with the S&P 500 suffering its first correction since October 2023, down more than 10% from its February 19 record high. Mixed signals on inflation and ongoing trade tensions contributed to the market's unease.\\n\\nThese articles highlight the market's immediate reactions to Trump's tariff announcements on the specified dates, illustrating the volatility and investor sentiment surrounding his trade policies.\""
            ]
          },
          "execution_count": 54,
          "metadata": {},
          "output_type": "execute_result"
        }
      ],
      "source": [
        "smart_retrieval(\"How did the market did repsond to Trump? Give me the specific date\")"
      ]
    },
    {
      "cell_type": "code",
      "execution_count": null,
      "metadata": {
        "colab": {
          "base_uri": "https://localhost:8080/",
          "height": 250
        },
        "id": "hpQ6X0OIT4Ee",
        "outputId": "27fd7b75-f86a-45d3-f79c-43ac3a4c02e9"
      },
      "outputs": [
        {
          "data": {
            "application/vnd.google.colaboratory.intrinsic+json": {
              "type": "string"
            },
            "text/plain": [
              "\"Here are the most relevant news articles regarding recent events in China, along with their key details:\\n\\n1. **U.S.-China Trade Relations and Tariffs**  \\n   - **Date:** March 5, 2024  \\n   - **Summary:** China retaliated against new U.S. tariffs by imposing additional tariffs on various U.S. agricultural products, including a 15% tariff on chicken, wheat, corn, and cotton, and a 10% tariff on soybeans, pork, and other items. The tariffs are set to take effect on March 10. China also filed a lawsuit with the World Trade Organization and added U.S. companies to export control lists, signaling a firm stance amid escalating trade tensions.\\n\\n2. **Economic Growth Target Set by China**  \\n   - **Date:** March 5, 2024  \\n   - **Summary:** Amid the renewed trade war, China announced a growth target of about 5% for 2025, indicating expectations of resilience against U.S. trade pressures. The country plans to implement stimulus measures due to the economic challenges exacerbated by tariffs imposed by the U.S.\\n\\n3. **BYD's Share Placement for Technology Investment**  \\n   - **Date:** March 5, 2024  \\n   - **Summary:** Chinese automaker BYD announced plans to raise $5.6 billion through a share placement to bolster investments in cutting-edge technology and enhance competitiveness against rivals such as Tesla. The funds will be used for research and development and to accelerate overseas expansion.\\n\\n4. **Retaliation Against Walmart Over Supplier Pricing**  \\n   - **Date:** March 6, 2024  \\n   - **Summary:** Chinese authorities summoned Walmart officials over complaints that the retailer was pressuring suppliers to lower prices in response to U.S. tariffs. The meeting highlighted tensions between U.S. retailers and Chinese suppliers amid increasing tariffs.\\n\\nThese articles reflect significant developments in China's trade relations, economic strategies, and corporate responses to external pressures.\""
            ]
          },
          "execution_count": 58,
          "metadata": {},
          "output_type": "execute_result"
        }
      ],
      "source": [
        "smart_retrieval(\"What happened in China recently? Specify the date\")"
      ]
    },
    {
      "cell_type": "code",
      "execution_count": null,
      "metadata": {
        "colab": {
          "base_uri": "https://localhost:8080/",
          "height": 321
        },
        "id": "dyzzfwy7T4wN",
        "outputId": "599f7c74-7ec2-481f-d36b-6a98c0dcd957"
      },
      "outputs": [
        {
          "data": {
            "application/vnd.google.colaboratory.intrinsic+json": {
              "type": "string"
            },
            "text/plain": [
              "\"Based on the retrieved news articles, here are the most relevant ones regarding the future outlook of the U.S. stock market:\\n\\n1. **Market Reaction to Tariffs and Trade Tensions**:\\n   - U.S. stocks experienced significant volatility in response to President Trump's tariffs on imports from Mexico, Canada, and China. The Dow Jones Industrial Average dropped over 1.6%, and the S&P 500 saw its first correction since October 2023. Analysts noted that the uncertainty surrounding tariffs is unsettling the markets, which have been reacting sharply to new threats of tariffs. Investor sentiment appears to be turning cautious, influenced by fears of economic slowdown due to potential trade wars.\\n\\n2. **Economic Data and Market Sentiment**:\\n   - Recent economic indicators suggest a slowing U.S. economy, with consumer spending dropping and mixed signals on inflation. While some investors remain optimistic and continue to invest in equities, there is growing caution among professionals. The volatility index (VIX) has been rising, indicating increased fear and uncertainty in the market. Analysts warn that the market may not find a bottom until retail investors reduce their exposure to stocks, which they have yet to do.\\n\\n3. **Rebound Following Tariff Reprieve**:\\n   - Following a one-month tariff reprieve for auto imports from Mexico and Canada, U.S. stocks rebounded, especially in the automotive sector. However, ongoing concerns about inflation and economic growth remain, and there is a sense that the market could face more volatility as trade tensions continue. The broader market response to tariff announcements has been characterized by sharp declines, followed by temporary recoveries, indicating a fragile market sentiment.\\n\\n4. **Investor Behavior Amid Market Uncertainty**:\\n   - Despite the turbulent market conditions, retail investors have continued to pour money into equities, showing a degree of confidence in the stock market. However, this behavior could indicate that they are lagging behind in adjusting to the new economic realities, which could spell trouble for future market performance. Analysts suggest that the market's stability may depend on how these individual investors respond to ongoing economic challenges and trade tensions.\\n\\nThese articles collectively highlight the complexities and uncertainties surrounding the future of the U.S. stock market, particularly in light of trade policies, economic indicators, and investor sentiment. The outlook remains cautious, with potential for volatility as the situation evolves.\""
            ]
          },
          "execution_count": 59,
          "metadata": {},
          "output_type": "execute_result"
        }
      ],
      "source": [
        "smart_retrieval(\"你预测一下美股后面的走势？\")"
      ]
    },
    {
      "cell_type": "code",
      "execution_count": null,
      "metadata": {
        "id": "BIragkXUW2Ue"
      },
      "outputs": [],
      "source": [
        "def insight_retrieval(query):\n",
        "    \"\"\"\n",
        "    Retrieves insights from relevant news articles without mentioning specific sources.\n",
        "    The function will extract themes, trends, and key takeaways without listing retrieved articles.\n",
        "\n",
        "    Args:\n",
        "        query (str): The user's search question.\n",
        "\n",
        "    Returns:\n",
        "        str: A high-level summary of insights without referencing individual sources.\n",
        "    \"\"\"\n",
        "    import re\n",
        "    from datetime import datetime\n",
        "\n",
        "    # Extract date from query if present (basic YYYY-MM-DD or YYYY-MM regex)\n",
        "    date_match = re.search(r\"\\b(202\\d-\\d{2}-\\d{2})\\b\", query) or re.search(r\"\\b(202\\d-\\d{2})\\b\", query)\n",
        "    search_date = date_match.group(0) if date_match else None\n",
        "\n",
        "    # Step 1: Retrieve using FAISS\n",
        "    retrieved_docs = vector_db.similarity_search(query, k=10)\n",
        "\n",
        "    # Step 2: If a date is present, filter retrieved docs by that date\n",
        "    if search_date:\n",
        "        retrieved_docs = [doc for doc in retrieved_docs if search_date in doc.metadata[\"date\"]]\n",
        "\n",
        "    # Step 3: Convert retrieved documents into context for LLM\n",
        "    context = \"\\n\\n\".join([doc.page_content for doc in retrieved_docs])\n",
        "\n",
        "    # Step 4: Use LLM to generate insights without referencing specific sources\n",
        "    insights = llm.predict(f\"\"\"\n",
        "    You are an expert financial analyst. Based on the retrieved information, summarize the key insights concisely.\n",
        "\n",
        "    User Query: {query}\n",
        "\n",
        "    Retrieved News Articles:\n",
        "    {context}\n",
        "\n",
        "    **Instructions:**\n",
        "    - Do NOT mention specific sources or articles.\n",
        "    - Provide only insights, trends, and key takeaways.\n",
        "    - Use an analytical and objective tone.\n",
        "\n",
        "    Provide the response in a structured and concise format.\n",
        "    \"\"\")\n",
        "\n",
        "    return insights"
      ]
    },
    {
      "cell_type": "code",
      "execution_count": null,
      "metadata": {
        "colab": {
          "base_uri": "https://localhost:8080/",
          "height": 357
        },
        "id": "K8GWhC5vYER7",
        "outputId": "2f59455c-ac59-4e2b-f60d-0adb65d99db7"
      },
      "outputs": [
        {
          "data": {
            "application/vnd.google.colaboratory.intrinsic+json": {
              "type": "string"
            },
            "text/plain": [
              "\"### Key Insights on U.S. Stock Market Trends and Predictions\\n\\n#### 1. **Market Response to Tariff Policies**\\n   - Recent tariff impositions by the U.S. government have led to significant declines in major stock indices, including the Dow Jones, S&P 500, and Nasdaq Composite.\\n   - The immediate market reaction indicates heightened uncertainty among investors regarding the economic impact of these tariffs, particularly on sensitive sectors such as automotive and banking.\\n\\n#### 2. **Investor Sentiment**\\n   - Despite the downturn, retail investor confidence remains relatively strong, with continued investments in equities. However, this trend may not correlate with market stability, as retail investors historically tend to exit late in a market correction.\\n   - A notable increase in bearish sentiment is observed, suggesting a potential for deeper market corrections if professional investors maintain caution.\\n\\n#### 3. **Economic Indicators and Market Volatility**\\n   - Mixed economic indicators, such as fluctuating consumer spending and inflation data, contribute to market volatility. The market's reaction to upcoming economic reports will be crucial in determining short-term movements.\\n   - The S&P 500 has entered correction territory, reflecting broader concerns about economic growth and corporate earnings.\\n\\n#### 4. **Sector-Specific Impacts**\\n   - Tariff-related anxiety has disproportionately affected sectors heavily reliant on international supply chains, such as automotive and retail, leading to substantial stock declines in these areas.\\n   - Financial institutions are also feeling the pressure, as concerns about consumer spending and loan growth rise amidst tariff uncertainties.\\n\\n#### 5. **Technical Market Analysis**\\n   - Recent market behavior indicates a rapid correction, with the S&P 500 experiencing one of the fastest declines on record. Technical indicators suggest that the market may be oversold, yet caution prevails regarding timing a rebound.\\n   - The volatility index (VIX) has increased, reflecting growing investor anxiety and the potential for further market fluctuations.\\n\\n#### 6. **Strategic Investment Outlook**\\n   - Market participants are increasingly adopting a capital preservation strategy, weighing the risks of entering the market against potential rebounds.\\n   - Analysts suggest that while some opportunities to acquire undervalued stocks exist, the overall sentiment remains cautious, underscoring the difficulty of timing market entries amidst ongoing volatility.\\n\\n#### 7. **Future Projections**\\n   - The uncertainty surrounding trade policies and economic fundamentals is expected to persist in the near term, creating a challenging environment for stock recovery.\\n   - Investors remain vigilant, as shifts in sentiment and economic data will play a significant role in shaping the market's trajectory moving forward.\""
            ]
          },
          "execution_count": 61,
          "metadata": {},
          "output_type": "execute_result"
        }
      ],
      "source": [
        "insight_retrieval(smart_retrieval(\"你预测一下美股后面的走势？\"))"
      ]
    },
    {
      "cell_type": "code",
      "execution_count": null,
      "metadata": {
        "colab": {
          "base_uri": "https://localhost:8080/",
          "height": 339
        },
        "id": "ZniSeikmYren",
        "outputId": "afaefde8-0190-43d4-eead-ae85d9330a73"
      },
      "outputs": [
        {
          "data": {
            "application/vnd.google.colaboratory.intrinsic+json": {
              "type": "string"
            },
            "text/plain": [
              "\"### Key Insights on Trump's Tariff Policies and Economic Impact\\n\\n#### 1. **Escalation of Trade Tensions**\\n   - Trump's implementation of significant tariffs (25% on imports from Mexico and Canada, 10% on Chinese goods) marks a departure from decades of free trade, raising expectations of prolonged trade conflicts.\\n\\n#### 2. **Economic Fallout**\\n   - The tariffs are anticipated to lead to higher consumer prices, with estimates suggesting a 1.2% increase in overall consumer costs and a potential 0.6% to 1% decrease in GDP growth.\\n   - The economic environment is characterized by uncertainty, which could hinder hiring and investment decisions across various sectors.\\n\\n#### 3. **Industry Reactions**\\n   - Different industries are reacting variably, with manufacturers, especially in the auto sector, expressing significant concern over cost implications and supply chain disruptions.\\n   - Retailers are facing pressures to manage pricing strategies amid rising costs, which could dampen consumer spending.\\n\\n#### 4. **Retaliation from Trade Partners**\\n   - Canada and Mexico are preparing retaliatory tariffs, while China has already imposed tariffs on U.S. agricultural products, indicating a tit-for-tat escalation that could further complicate trade relations.\\n\\n#### 5. **Market Responses**\\n   - The stock market has reacted negatively to tariff announcements, with declines in major indices reflecting investor concerns about long-term economic implications and increased volatility in financial markets.\\n   - Economic data points to slowing growth, with consumer confidence and spending showing signs of weakening, contributing to market unease.\\n\\n#### 6. **Consumer Sentiment**\\n   - Polls indicate that a significant portion of the population expects tariffs to adversely affect the economy, suggesting a shift in consumer behavior towards caution in spending.\\n\\n#### 7. **Global Economic Concerns**\\n   - Analysts warn that the ongoing trade war could lead the global economy toward recession, reminiscent of historical downturns linked to protectionist policies, highlighting fears of a downward spiral in international trade.\\n\\n#### 8. **Long-term Strategy vs. Short-term Pain**\\n   - While the administration argues that tariffs will revitalize U.S. manufacturing, the immediate consequences include inflationary pressures and uncertainty that could stifle economic recovery.\\n\\n### Conclusion\\nTrump's tariff policies are reshaping trade relations and economic conditions, leading to increased consumer prices, market volatility, and heightened tensions with key trading partners. The long-term viability of these strategies remains uncertain, as they pose significant risks to both domestic and global economic stability.\""
            ]
          },
          "execution_count": 62,
          "metadata": {},
          "output_type": "execute_result"
        }
      ],
      "source": [
        "insight_retrieval(smart_retrieval(\"评价一下特朗普最近的政策，我觉得他疯了，我不理解他为何又发动贸易战，你觉得呢？\"))"
      ]
    },
    {
      "cell_type": "markdown",
      "metadata": {},
      "source": [
        "# 4. Evaluation"
      ]
    },
    {
      "cell_type": "markdown",
      "metadata": {},
      "source": [
        "- **Generate Q&A Pairs**  \n",
        "  - GPT-4 generates **20 question-answer pairs** from retrieved financial news articles. These serve as the ground truth for evaluation. \n",
        "\n",
        "- **Test the RAG Model**  \n",
        "  - Runs the RAG system on these queries and generated answers for the 20 questions. Compares responses to ground truth.  \n",
        "\n",
        "- **Faithfulness Scoring**  \n",
        "  - **GPT-4 acted as a judge**, scoring faithfulness (accuracy & correctness) on a **1-5 scale**. It also provided detailed feedback on mistakes and strengths."
      ]
    },
    {
      "cell_type": "code",
      "execution_count": 29,
      "metadata": {
        "colab": {
          "base_uri": "https://localhost:8080/",
          "height": 49,
          "referenced_widgets": [
            "b72e653798cf4e428443ceb8c72bf078",
            "d89265035e1c4c21bec6d03a52356dbe",
            "01b8c3d7d5624ae8aaa3ddf9d1b29313",
            "7555c899f0fd48488c4667ea3e3712bc",
            "54a7643066e143c3bf8b2a18d982ad96",
            "830ad378120041678b0fa04272d1c228",
            "d077b9d173c0495cb401f3d625dd0e07",
            "49b0765450a748719179a14afe4b1815",
            "4df89fe5f9db4c359c47a49936a8db7c",
            "34ca598bca3946729e45c22e4c3ff004",
            "360d9da1eb704e659e5f32cbcf527c5f"
          ]
        },
        "id": "PXb0XXbNj7VF",
        "outputId": "bde36be8-f41c-462c-a660-e92684fbde10"
      },
      "outputs": [
        {
          "data": {
            "application/vnd.jupyter.widget-view+json": {
              "model_id": "b72e653798cf4e428443ceb8c72bf078",
              "version_major": 2,
              "version_minor": 0
            },
            "text/plain": [
              "  0%|          | 0/20 [00:00<?, ?it/s]"
            ]
          },
          "metadata": {},
          "output_type": "display_data"
        }
      ],
      "source": [
        "import random\n",
        "import json\n",
        "from tqdm.auto import tqdm\n",
        "from openai import OpenAI\n",
        "from langchain.schema import Document\n",
        "\n",
        "llm_client = OpenAI(api_key=api_key)\n",
        "QA_generation_prompt = \"\"\"\n",
        "Your task is to generate a fact-based question and its answer using the given financial news article.\n",
        "Ensure that the question can be directly answered using the article content.\n",
        "\n",
        "Provide your response in this format:\n",
        "\n",
        "Output:::\n",
        "Factoid question: (your generated question)\n",
        "Answer: (your answer)\n",
        "\n",
        "Here is the news article:\n",
        "\n",
        "{context}\n",
        "Output:::\n",
        "\"\"\"\n",
        "\n",
        "def generate_qa_pairs(news_documents, n_samples=10):\n",
        "    \"\"\"Generates synthetic QA pairs from news articles using GPT.\"\"\"\n",
        "    qa_pairs = []\n",
        "    sampled_docs = random.sample(news_documents, n_samples)\n",
        "\n",
        "    for doc in tqdm(sampled_docs):\n",
        "        context = doc.page_content\n",
        "        response = llm_client.chat.completions.create(\n",
        "            model=\"gpt-4\",\n",
        "            messages=[{\"role\": \"system\", \"content\": QA_generation_prompt.format(context=context)}]\n",
        "        ).choices[0].message.content  # Extract content properly\n",
        "\n",
        "        try:\n",
        "            question = response.split(\"Factoid question: \")[-1].split(\"Answer: \")[0].strip()\n",
        "            answer = response.split(\"Answer: \")[-1].strip()\n",
        "            qa_pairs.append({\"context\": context, \"question\": question, \"answer\": answer})\n",
        "        except:\n",
        "            continue\n",
        "\n",
        "    return qa_pairs\n",
        "\n",
        "# Load documents and generate synthetic QA dataset\n",
        "qa_dataset = generate_qa_pairs(documents, n_samples=20)"
      ]
    },
    {
      "cell_type": "code",
      "execution_count": null,
      "metadata": {
        "id": "Wd3liRVgn-1_"
      },
      "outputs": [],
      "source": [
        "# Step 1: Re-create LangChain Documents with updated metadata\n",
        "documents = [create_enriched_document(row) for _, row in df.iterrows()]\n",
        "\n",
        "# Step 2: Rebuild FAISS Index (Ensures metadata like \"date\" is stored)\n",
        "vector_db = FAISS.from_documents(documents, embedding_model)\n",
        "\n",
        "# Step 3: Save the updated FAISS index\n",
        "vector_db.save_local(\"faiss_index\")"
      ]
    },
    {
      "cell_type": "code",
      "execution_count": 39,
      "metadata": {
        "colab": {
          "base_uri": "https://localhost:8080/",
          "height": 49,
          "referenced_widgets": [
            "e60c45e74063433686f568f5d4c0019a",
            "12f214658ab94229bee9d00978d46f23",
            "552bb18f3aa048f1b001e68e38249fa2",
            "61ea03b9d6ad4bc0b15385da545a49e0",
            "bb679058e3274a3e8d151670ef9c7436",
            "7e50a473c31d42eb86c850ec3be52f4a",
            "e8bfc68eda394b34a3ee94051233a4b0",
            "b7da79a71f4e44839ca537559e370f7b",
            "9b4a0e4461d4400c83b71ac8b7ff5dd0",
            "e6be155d71aa4b399265b6dc914a2f5f",
            "0f9e7a01cc264cdfb6d34e3892eec35c"
          ]
        },
        "id": "rQRWBz6Vj7Xt",
        "outputId": "d38002a5-b9df-4934-b68d-2bf47d55e461"
      },
      "outputs": [
        {
          "data": {
            "application/vnd.jupyter.widget-view+json": {
              "model_id": "e60c45e74063433686f568f5d4c0019a",
              "version_major": 2,
              "version_minor": 0
            },
            "text/plain": [
              "  0%|          | 0/20 [00:00<?, ?it/s]"
            ]
          },
          "metadata": {},
          "output_type": "display_data"
        }
      ],
      "source": [
        "def evaluate_rag_on_dataset(qa_dataset, rag_system):\n",
        "    \"\"\"Runs RAG system on the generated QA dataset and collects answers.\"\"\"\n",
        "    results = []\n",
        "\n",
        "    for sample in tqdm(qa_dataset):\n",
        "        question = sample[\"question\"]\n",
        "        ground_truth_answer = sample[\"answer\"]\n",
        "\n",
        "        # Get RAG-generated response\n",
        "        rag_generated_answer = smart_retrieval(question)\n",
        "\n",
        "        # Store results\n",
        "        results.append({\n",
        "            \"question\": question,\n",
        "            \"ground_truth\": ground_truth_answer,\n",
        "            \"rag_answer\": rag_generated_answer\n",
        "        })\n",
        "\n",
        "    return results\n",
        "\n",
        "# Run evaluation\n",
        "rag_results = evaluate_rag_on_dataset(qa_dataset, smart_retrieval)"
      ]
    },
    {
      "cell_type": "code",
      "execution_count": null,
      "metadata": {
        "colab": {
          "base_uri": "https://localhost:8080/",
          "height": 67,
          "referenced_widgets": [
            "ff9f4ce343c340cba882bf16e9c0b623",
            "298ac2bbfeeb48a7b010f0f4e965c7bd",
            "cf5fbf1cb390481089cbe7534025a63e",
            "05715e2288984524984e718f99d88ccc",
            "26b58ae46ce8488a86baf5c5eaffb153",
            "54962ce2a10f484498b20d9fe755082b",
            "bd046d9f8ff14dc099bf4d644fa072c1",
            "5378484f9a9e45c986d145e1332e7987",
            "c2ac3611620d486db3510980b746070b",
            "ed8cdecbe363457980560b40bddfff6c",
            "763909407fe445569ca08a7e7f4b2559"
          ]
        },
        "id": "dCouMao6kusA",
        "outputId": "9ae5e559-b7a9-495f-e9a4-3e5947452831"
      },
      "outputs": [
        {
          "data": {
            "application/vnd.jupyter.widget-view+json": {
              "model_id": "ff9f4ce343c340cba882bf16e9c0b623",
              "version_major": 2,
              "version_minor": 0
            },
            "text/plain": [
              "  0%|          | 0/20 [00:00<?, ?it/s]"
            ]
          },
          "metadata": {},
          "output_type": "display_data"
        },
        {
          "name": "stdout",
          "output_type": "stream",
          "text": [
            "📊 Average Faithfulness Score: 4.60/5\n"
          ]
        }
      ],
      "source": [
        "EVALUATION_PROMPT = \"\"\"\n",
        "You are an evaluator AI that checks the accuracy of AI-generated responses.\n",
        "Compare the RAG-generated response with the ground truth answer.\n",
        "\n",
        "Give a score on a scale of 1 to 5 based on:\n",
        "- **5**: The response is completely factual and correct.\n",
        "- **4**: The response is mostly correct with minor inaccuracies.\n",
        "- **3**: The response is somewhat correct but misses key details.\n",
        "- **2**: The response is mostly incorrect.\n",
        "- **1**: The response is entirely wrong or hallucinates information.\n",
        "\n",
        "Provide your answer in the following format:\n",
        "Feedback: (Detailed reasoning for the rating)\n",
        "Total Rating: (A number between 1 and 5)\n",
        "\n",
        "Ground Truth Answer:\n",
        "{ground_truth}\n",
        "\n",
        "RAG-Generated Response:\n",
        "{rag_answer}\n",
        "\n",
        "Evaluation:\n",
        "\"\"\"\n",
        "\n",
        "def evaluate_rag_responses(rag_results):\n",
        "    \"\"\"Uses GPT-4 to evaluate RAG-generated answers vs. ground truth.\"\"\"\n",
        "    eval_results = []\n",
        "\n",
        "    for sample in tqdm(rag_results):\n",
        "        response = llm_client.chat.completions.create(\n",
        "            model=\"gpt-4\",\n",
        "            messages=[{\"role\": \"system\", \"content\": EVALUATION_PROMPT.format(\n",
        "                ground_truth=sample[\"ground_truth\"], rag_answer=sample[\"rag_answer\"]\n",
        "            )}]\n",
        "        )\n",
        "\n",
        "        # Correctly extract the content from the first choice\n",
        "        response_text = response.choices[0].message.content  # Use `.content` directly\n",
        "\n",
        "        # Extract rating\n",
        "        try:\n",
        "            feedback = response_text.split(\"Feedback: \")[-1].split(\"Total Rating: \")[0].strip()\n",
        "            rating = int(response_text.split(\"Total Rating: \")[-1].strip())\n",
        "        except:\n",
        "            feedback, rating = \"Failed to extract feedback\", 1\n",
        "\n",
        "        eval_results.append({\n",
        "            \"question\": sample[\"question\"],\n",
        "            \"ground_truth\": sample[\"ground_truth\"],\n",
        "            \"rag_answer\": sample[\"rag_answer\"],\n",
        "            \"feedback\": feedback,\n",
        "            \"rating\": rating\n",
        "        })\n",
        "\n",
        "    return eval_results\n",
        "\n",
        "\n",
        "# Run evaluation\n",
        "evaluation_results = evaluate_rag_responses(rag_results)\n",
        "\n",
        "# Convert to DataFrame\n",
        "df_eval = pd.DataFrame(evaluation_results)\n",
        "\n",
        "# Compute average faithfulness score\n",
        "average_score = df_eval[\"rating\"].mean()\n",
        "print(f\"📊 Average Faithfulness Score: {average_score:.2f}/5\")"
      ]
    },
    {
      "cell_type": "code",
      "execution_count": 48,
      "metadata": {
        "colab": {
          "base_uri": "https://localhost:8080/",
          "height": 487
        },
        "id": "EluuI8Ppr7gD",
        "outputId": "7152c00e-504a-4c86-90a5-c2805fd89c58"
      },
      "outputs": [
        {
          "data": {
            "image/png": "[encoded data removed]",
            "text/plain": [
              "<Figure size 800x500 with 1 Axes>"
            ]
          },
          "metadata": {},
          "output_type": "display_data"
        }
      ],
      "source": [
        "import matplotlib.pyplot as plt\n",
        "import pandas as pd\n",
        "\n",
        "\n",
        "# Plot histogram of ratings\n",
        "plt.figure(figsize=(8, 5))\n",
        "plt.hist(df_eval[\"rating\"], bins=5, range=(1, 5), edgecolor=\"black\", alpha=0.7)\n",
        "plt.xlabel(\"Rating (1-5)\")\n",
        "plt.ylabel(\"Number of Responses\")\n",
        "plt.title(\"Distribution of RAG Model Evaluation Scores\")\n",
        "plt.xticks([1, 2, 3, 4, 5])\n",
        "plt.grid(axis=\"y\", linestyle=\"--\", alpha=0.6)\n",
        "plt.show()\n"
      ]
    },
    {
      "cell_type": "code",
      "execution_count": null,
      "metadata": {
        "colab": {
          "base_uri": "https://localhost:8080/"
        },
        "id": "mDU05rD7pdhJ",
        "outputId": "5520042d-4be6-4a66-8d11-dbc6923fbee8"
      },
      "outputs": [
        {
          "name": "stdout",
          "output_type": "stream",
          "text": [
            "✅ `qa_dataset` saved at: /content/drive/MyDrive/qa_dataset.json\n",
            "✅ `rag_results` saved at: /content/drive/MyDrive/rag_results.json\n"
          ]
        }
      ],
      "source": [
        "import json\n",
        "\n",
        "qa_dataset_path = \"/content/drive/MyDrive/qa_dataset.json\"\n",
        "\n",
        "# Save dataset as JSON\n",
        "with open(qa_dataset_path, \"w\") as f:\n",
        "    json.dump(qa_dataset, f, indent=4)\n",
        "\n",
        "print(f\"✅ `qa_dataset` saved at: {qa_dataset_path}\")\n",
        "\n",
        "\n",
        "rag_results_path = \"/content/drive/MyDrive/rag_results.json\"\n",
        "\n",
        "# Save RAG results as JSON\n",
        "with open(rag_results_path, \"w\") as f:\n",
        "    json.dump(rag_results, f, indent=4)\n",
        "\n",
        "print(f\"✅ `rag_results` saved at: {rag_results_path}\")"
      ]
    }
  ],
  "metadata": {
    "accelerator": "GPU",
    "colab": {
      "gpuType": "T4",
      "provenance": []
    },
    "kernelspec": {
      "display_name": "Python 3",
      "name": "python3"
    },
    "language_info": {
      "name": "python"
    },
    "widgets": {
      "application/vnd.jupyter.widget-state+json": {
        "01b8c3d7d5624ae8aaa3ddf9d1b29313": {
          "model_module": "@jupyter-widgets/controls",
          "model_module_version": "1.5.0",
          "model_name": "FloatProgressModel",
          "state": {
            "_dom_classes": [],
            "_model_module": "@jupyter-widgets/controls",
            "_model_module_version": "1.5.0",
            "_model_name": "FloatProgressModel",
            "_view_count": null,
            "_view_module": "@jupyter-widgets/controls",
            "_view_module_version": "1.5.0",
            "_view_name": "ProgressView",
            "bar_style": "success",
            "description": "",
            "description_tooltip": null,
            "layout": "IPY_MODEL_49b0765450a748719179a14afe4b1815",
            "max": 20,
            "min": 0,
            "orientation": "horizontal",
            "style": "IPY_MODEL_4df89fe5f9db4c359c47a49936a8db7c",
            "value": 20
          }
        },
        "02e799ca5d394e7daadcee9573ea138e": {
          "model_module": "@jupyter-widgets/base",
          "model_module_version": "1.2.0",
          "model_name": "LayoutModel",
          "state": {
            "_model_module": "@jupyter-widgets/base",
            "_model_module_version": "1.2.0",
            "_model_name": "LayoutModel",
            "_view_count": null,
            "_view_module": "@jupyter-widgets/base",
            "_view_module_version": "1.2.0",
            "_view_name": "LayoutView",
            "align_content": null,
            "align_items": null,
            "align_self": null,
            "border": null,
            "bottom": null,
            "display": null,
            "flex": null,
            "flex_flow": null,
            "grid_area": null,
            "grid_auto_columns": null,
            "grid_auto_flow": null,
            "grid_auto_rows": null,
            "grid_column": null,
            "grid_gap": null,
            "grid_row": null,
            "grid_template_areas": null,
            "grid_template_columns": null,
            "grid_template_rows": null,
            "height": null,
            "justify_content": null,
            "justify_items": null,
            "left": null,
            "margin": null,
            "max_height": null,
            "max_width": null,
            "min_height": null,
            "min_width": null,
            "object_fit": null,
            "object_position": null,
            "order": null,
            "overflow": null,
            "overflow_x": null,
            "overflow_y": null,
            "padding": null,
            "right": null,
            "top": null,
            "visibility": null,
            "width": null
          }
        },
        "04ab226e3f9849bd90533e2b91ef491a": {
          "model_module": "@jupyter-widgets/controls",
          "model_module_version": "1.5.0",
          "model_name": "FloatProgressModel",
          "state": {
            "_dom_classes": [],
            "_model_module": "@jupyter-widgets/controls",
            "_model_module_version": "1.5.0",
            "_model_name": "FloatProgressModel",
            "_view_count": null,
            "_view_module": "@jupyter-widgets/controls",
            "_view_module_version": "1.5.0",
            "_view_name": "ProgressView",
            "bar_style": "success",
            "description": "",
            "description_tooltip": null,
            "layout": "IPY_MODEL_6ea4280e040243da9e8f225a2dea08fb",
            "max": 456356,
            "min": 0,
            "orientation": "horizontal",
            "style": "IPY_MODEL_25c8abfa94194b2ca0b16446798deba1",
            "value": 456356
          }
        },
        "05715e2288984524984e718f99d88ccc": {
          "model_module": "@jupyter-widgets/controls",
          "model_module_version": "1.5.0",
          "model_name": "HTMLModel",
          "state": {
            "_dom_classes": [],
            "_model_module": "@jupyter-widgets/controls",
            "_model_module_version": "1.5.0",
            "_model_name": "HTMLModel",
            "_view_count": null,
            "_view_module": "@jupyter-widgets/controls",
            "_view_module_version": "1.5.0",
            "_view_name": "HTMLView",
            "description": "",
            "description_tooltip": null,
            "layout": "IPY_MODEL_ed8cdecbe363457980560b40bddfff6c",
            "placeholder": "​",
            "style": "IPY_MODEL_763909407fe445569ca08a7e7f4b2559",
            "value": " 20/20 [01:07&lt;00:00,  3.64s/it]"
          }
        },
        "0e547d6a5dce4bf9ada70ba2acf011f2": {
          "model_module": "@jupyter-widgets/controls",
          "model_module_version": "1.5.0",
          "model_name": "HBoxModel",
          "state": {
            "_dom_classes": [],
            "_model_module": "@jupyter-widgets/controls",
            "_model_module_version": "1.5.0",
            "_model_name": "HBoxModel",
            "_view_count": null,
            "_view_module": "@jupyter-widgets/controls",
            "_view_module_version": "1.5.0",
            "_view_name": "HBoxView",
            "box_style": "",
            "children": [
              "IPY_MODEL_313b05531da44489955c6ad8161931e6",
              "IPY_MODEL_b5c11451160647e98cfb9a2d3b7dd9fc",
              "IPY_MODEL_c870e509a1db4d16ae1d06015680ce0c"
            ],
            "layout": "IPY_MODEL_ee2b420f76cf4943a16056b02ef948bd"
          }
        },
        "0f9e7a01cc264cdfb6d34e3892eec35c": {
          "model_module": "@jupyter-widgets/controls",
          "model_module_version": "1.5.0",
          "model_name": "DescriptionStyleModel",
          "state": {
            "_model_module": "@jupyter-widgets/controls",
            "_model_module_version": "1.5.0",
            "_model_name": "DescriptionStyleModel",
            "_view_count": null,
            "_view_module": "@jupyter-widgets/base",
            "_view_module_version": "1.2.0",
            "_view_name": "StyleView",
            "description_width": ""
          }
        },
        "110305f0c8ce42979aae454ad9ea0300": {
          "model_module": "@jupyter-widgets/controls",
          "model_module_version": "1.5.0",
          "model_name": "ProgressStyleModel",
          "state": {
            "_model_module": "@jupyter-widgets/controls",
            "_model_module_version": "1.5.0",
            "_model_name": "ProgressStyleModel",
            "_view_count": null,
            "_view_module": "@jupyter-widgets/base",
            "_view_module_version": "1.2.0",
            "_view_name": "StyleView",
            "bar_color": null,
            "description_width": ""
          }
        },
        "12e25e9f92ba4692914e8a5b800d0112": {
          "model_module": "@jupyter-widgets/base",
          "model_module_version": "1.2.0",
          "model_name": "LayoutModel",
          "state": {
            "_model_module": "@jupyter-widgets/base",
            "_model_module_version": "1.2.0",
            "_model_name": "LayoutModel",
            "_view_count": null,
            "_view_module": "@jupyter-widgets/base",
            "_view_module_version": "1.2.0",
            "_view_name": "LayoutView",
            "align_content": null,
            "align_items": null,
            "align_self": null,
            "border": null,
            "bottom": null,
            "display": null,
            "flex": null,
            "flex_flow": null,
            "grid_area": null,
            "grid_auto_columns": null,
            "grid_auto_flow": null,
            "grid_auto_rows": null,
            "grid_column": null,
            "grid_gap": null,
            "grid_row": null,
            "grid_template_areas": null,
            "grid_template_columns": null,
            "grid_template_rows": null,
            "height": null,
            "justify_content": null,
            "justify_items": null,
            "left": null,
            "margin": null,
            "max_height": null,
            "max_width": null,
            "min_height": null,
            "min_width": null,
            "object_fit": null,
            "object_position": null,
            "order": null,
            "overflow": null,
            "overflow_x": null,
            "overflow_y": null,
            "padding": null,
            "right": null,
            "top": null,
            "visibility": null,
            "width": null
          }
        },
        "12f214658ab94229bee9d00978d46f23": {
          "model_module": "@jupyter-widgets/controls",
          "model_module_version": "1.5.0",
          "model_name": "HTMLModel",
          "state": {
            "_dom_classes": [],
            "_model_module": "@jupyter-widgets/controls",
            "_model_module_version": "1.5.0",
            "_model_name": "HTMLModel",
            "_view_count": null,
            "_view_module": "@jupyter-widgets/controls",
            "_view_module_version": "1.5.0",
            "_view_name": "HTMLView",
            "description": "",
            "description_tooltip": null,
            "layout": "IPY_MODEL_7e50a473c31d42eb86c850ec3be52f4a",
            "placeholder": "​",
            "style": "IPY_MODEL_e8bfc68eda394b34a3ee94051233a4b0",
            "value": "100%"
          }
        },
        "163da9e0a2744021889f14ccdaa7d5fc": {
          "model_module": "@jupyter-widgets/controls",
          "model_module_version": "1.5.0",
          "model_name": "ProgressStyleModel",
          "state": {
            "_model_module": "@jupyter-widgets/controls",
            "_model_module_version": "1.5.0",
            "_model_name": "ProgressStyleModel",
            "_view_count": null,
            "_view_module": "@jupyter-widgets/base",
            "_view_module_version": "1.2.0",
            "_view_name": "StyleView",
            "bar_color": null,
            "description_width": ""
          }
        },
        "165e43f3007b4cda8c89669c061c0e87": {
          "model_module": "@jupyter-widgets/base",
          "model_module_version": "1.2.0",
          "model_name": "LayoutModel",
          "state": {
            "_model_module": "@jupyter-widgets/base",
            "_model_module_version": "1.2.0",
            "_model_name": "LayoutModel",
            "_view_count": null,
            "_view_module": "@jupyter-widgets/base",
            "_view_module_version": "1.2.0",
            "_view_name": "LayoutView",
            "align_content": null,
            "align_items": null,
            "align_self": null,
            "border": null,
            "bottom": null,
            "display": null,
            "flex": null,
            "flex_flow": null,
            "grid_area": null,
            "grid_auto_columns": null,
            "grid_auto_flow": null,
            "grid_auto_rows": null,
            "grid_column": null,
            "grid_gap": null,
            "grid_row": null,
            "grid_template_areas": null,
            "grid_template_columns": null,
            "grid_template_rows": null,
            "height": null,
            "justify_content": null,
            "justify_items": null,
            "left": null,
            "margin": null,
            "max_height": null,
            "max_width": null,
            "min_height": null,
            "min_width": null,
            "object_fit": null,
            "object_position": null,
            "order": null,
            "overflow": null,
            "overflow_x": null,
            "overflow_y": null,
            "padding": null,
            "right": null,
            "top": null,
            "visibility": null,
            "width": null
          }
        },
        "16ba5a104b0f4f8796db757d9644139c": {
          "model_module": "@jupyter-widgets/base",
          "model_module_version": "1.2.0",
          "model_name": "LayoutModel",
          "state": {
            "_model_module": "@jupyter-widgets/base",
            "_model_module_version": "1.2.0",
            "_model_name": "LayoutModel",
            "_view_count": null,
            "_view_module": "@jupyter-widgets/base",
            "_view_module_version": "1.2.0",
            "_view_name": "LayoutView",
            "align_content": null,
            "align_items": null,
            "align_self": null,
            "border": null,
            "bottom": null,
            "display": null,
            "flex": null,
            "flex_flow": null,
            "grid_area": null,
            "grid_auto_columns": null,
            "grid_auto_flow": null,
            "grid_auto_rows": null,
            "grid_column": null,
            "grid_gap": null,
            "grid_row": null,
            "grid_template_areas": null,
            "grid_template_columns": null,
            "grid_template_rows": null,
            "height": null,
            "justify_content": null,
            "justify_items": null,
            "left": null,
            "margin": null,
            "max_height": null,
            "max_width": null,
            "min_height": null,
            "min_width": null,
            "object_fit": null,
            "object_position": null,
            "order": null,
            "overflow": null,
            "overflow_x": null,
            "overflow_y": null,
            "padding": null,
            "right": null,
            "top": null,
            "visibility": null,
            "width": null
          }
        },
        "1998f596d51e4da99dcce9b8bcb90754": {
          "model_module": "@jupyter-widgets/controls",
          "model_module_version": "1.5.0",
          "model_name": "HTMLModel",
          "state": {
            "_dom_classes": [],
            "_model_module": "@jupyter-widgets/controls",
            "_model_module_version": "1.5.0",
            "_model_name": "HTMLModel",
            "_view_count": null,
            "_view_module": "@jupyter-widgets/controls",
            "_view_module_version": "1.5.0",
            "_view_name": "HTMLView",
            "description": "",
            "description_tooltip": null,
            "layout": "IPY_MODEL_84c93c18689247a29594fa6fe757bcca",
            "placeholder": "​",
            "style": "IPY_MODEL_c1f7347729144f9492dabbca7cb044bc",
            "value": " 239/239 [00:00&lt;00:00, 18.7kB/s]"
          }
        },
        "2053b477f3864b94a0440bbcd8cf8be5": {
          "model_module": "@jupyter-widgets/controls",
          "model_module_version": "1.5.0",
          "model_name": "HBoxModel",
          "state": {
            "_dom_classes": [],
            "_model_module": "@jupyter-widgets/controls",
            "_model_module_version": "1.5.0",
            "_model_name": "HBoxModel",
            "_view_count": null,
            "_view_module": "@jupyter-widgets/controls",
            "_view_module_version": "1.5.0",
            "_view_name": "HBoxView",
            "box_style": "",
            "children": [
              "IPY_MODEL_b4815c631b054cba9140836cc3d5355a",
              "IPY_MODEL_cfaebf3664154a54ac30c34b012498fd",
              "IPY_MODEL_1998f596d51e4da99dcce9b8bcb90754"
            ],
            "layout": "IPY_MODEL_f38e3fd7ac18445991038cd0cb49fc7f"
          }
        },
        "25c8abfa94194b2ca0b16446798deba1": {
          "model_module": "@jupyter-widgets/controls",
          "model_module_version": "1.5.0",
          "model_name": "ProgressStyleModel",
          "state": {
            "_model_module": "@jupyter-widgets/controls",
            "_model_module_version": "1.5.0",
            "_model_name": "ProgressStyleModel",
            "_view_count": null,
            "_view_module": "@jupyter-widgets/base",
            "_view_module_version": "1.2.0",
            "_view_name": "StyleView",
            "bar_color": null,
            "description_width": ""
          }
        },
        "268ea891550744b88a4a7eff52bc46c6": {
          "model_module": "@jupyter-widgets/base",
          "model_module_version": "1.2.0",
          "model_name": "LayoutModel",
          "state": {
            "_model_module": "@jupyter-widgets/base",
            "_model_module_version": "1.2.0",
            "_model_name": "LayoutModel",
            "_view_count": null,
            "_view_module": "@jupyter-widgets/base",
            "_view_module_version": "1.2.0",
            "_view_name": "LayoutView",
            "align_content": null,
            "align_items": null,
            "align_self": null,
            "border": null,
            "bottom": null,
            "display": null,
            "flex": null,
            "flex_flow": null,
            "grid_area": null,
            "grid_auto_columns": null,
            "grid_auto_flow": null,
            "grid_auto_rows": null,
            "grid_column": null,
            "grid_gap": null,
            "grid_row": null,
            "grid_template_areas": null,
            "grid_template_columns": null,
            "grid_template_rows": null,
            "height": null,
            "justify_content": null,
            "justify_items": null,
            "left": null,
            "margin": null,
            "max_height": null,
            "max_width": null,
            "min_height": null,
            "min_width": null,
            "object_fit": null,
            "object_position": null,
            "order": null,
            "overflow": null,
            "overflow_x": null,
            "overflow_y": null,
            "padding": null,
            "right": null,
            "top": null,
            "visibility": null,
            "width": null
          }
        },
        "26b58ae46ce8488a86baf5c5eaffb153": {
          "model_module": "@jupyter-widgets/base",
          "model_module_version": "1.2.0",
          "model_name": "LayoutModel",
          "state": {
            "_model_module": "@jupyter-widgets/base",
            "_model_module_version": "1.2.0",
            "_model_name": "LayoutModel",
            "_view_count": null,
            "_view_module": "@jupyter-widgets/base",
            "_view_module_version": "1.2.0",
            "_view_name": "LayoutView",
            "align_content": null,
            "align_items": null,
            "align_self": null,
            "border": null,
            "bottom": null,
            "display": null,
            "flex": null,
            "flex_flow": null,
            "grid_area": null,
            "grid_auto_columns": null,
            "grid_auto_flow": null,
            "grid_auto_rows": null,
            "grid_column": null,
            "grid_gap": null,
            "grid_row": null,
            "grid_template_areas": null,
            "grid_template_columns": null,
            "grid_template_rows": null,
            "height": null,
            "justify_content": null,
            "justify_items": null,
            "left": null,
            "margin": null,
            "max_height": null,
            "max_width": null,
            "min_height": null,
            "min_width": null,
            "object_fit": null,
            "object_position": null,
            "order": null,
            "overflow": null,
            "overflow_x": null,
            "overflow_y": null,
            "padding": null,
            "right": null,
            "top": null,
            "visibility": null,
            "width": null
          }
        },
        "28b71d518d604cc4aab110cd27d60228": {
          "model_module": "@jupyter-widgets/base",
          "model_module_version": "1.2.0",
          "model_name": "LayoutModel",
          "state": {
            "_model_module": "@jupyter-widgets/base",
            "_model_module_version": "1.2.0",
            "_model_name": "LayoutModel",
            "_view_count": null,
            "_view_module": "@jupyter-widgets/base",
            "_view_module_version": "1.2.0",
            "_view_name": "LayoutView",
            "align_content": null,
            "align_items": null,
            "align_self": null,
            "border": null,
            "bottom": null,
            "display": null,
            "flex": null,
            "flex_flow": null,
            "grid_area": null,
            "grid_auto_columns": null,
            "grid_auto_flow": null,
            "grid_auto_rows": null,
            "grid_column": null,
            "grid_gap": null,
            "grid_row": null,
            "grid_template_areas": null,
            "grid_template_columns": null,
            "grid_template_rows": null,
            "height": null,
            "justify_content": null,
            "justify_items": null,
            "left": null,
            "margin": null,
            "max_height": null,
            "max_width": null,
            "min_height": null,
            "min_width": null,
            "object_fit": null,
            "object_position": null,
            "order": null,
            "overflow": null,
            "overflow_x": null,
            "overflow_y": null,
            "padding": null,
            "right": null,
            "top": null,
            "visibility": null,
            "width": null
          }
        },
        "298ac2bbfeeb48a7b010f0f4e965c7bd": {
          "model_module": "@jupyter-widgets/controls",
          "model_module_version": "1.5.0",
          "model_name": "HTMLModel",
          "state": {
            "_dom_classes": [],
            "_model_module": "@jupyter-widgets/controls",
            "_model_module_version": "1.5.0",
            "_model_name": "HTMLModel",
            "_view_count": null,
            "_view_module": "@jupyter-widgets/controls",
            "_view_module_version": "1.5.0",
            "_view_name": "HTMLView",
            "description": "",
            "description_tooltip": null,
            "layout": "IPY_MODEL_54962ce2a10f484498b20d9fe755082b",
            "placeholder": "​",
            "style": "IPY_MODEL_bd046d9f8ff14dc099bf4d644fa072c1",
            "value": "100%"
          }
        },
        "313b05531da44489955c6ad8161931e6": {
          "model_module": "@jupyter-widgets/controls",
          "model_module_version": "1.5.0",
          "model_name": "HTMLModel",
          "state": {
            "_dom_classes": [],
            "_model_module": "@jupyter-widgets/controls",
            "_model_module_version": "1.5.0",
            "_model_name": "HTMLModel",
            "_view_count": null,
            "_view_module": "@jupyter-widgets/controls",
            "_view_module_version": "1.5.0",
            "_view_name": "HTMLView",
            "description": "",
            "description_tooltip": null,
            "layout": "IPY_MODEL_3ccd5a81f99945e583364a8386947cc8",
            "placeholder": "​",
            "style": "IPY_MODEL_909a09d56cb54c349e108547763285a7",
            "value": "config.json: 100%"
          }
        },
        "337d78ebe1bd4a539fda4680cbb8f58d": {
          "model_module": "@jupyter-widgets/controls",
          "model_module_version": "1.5.0",
          "model_name": "DescriptionStyleModel",
          "state": {
            "_model_module": "@jupyter-widgets/controls",
            "_model_module_version": "1.5.0",
            "_model_name": "DescriptionStyleModel",
            "_view_count": null,
            "_view_module": "@jupyter-widgets/base",
            "_view_module_version": "1.2.0",
            "_view_name": "StyleView",
            "description_width": ""
          }
        },
        "34ca598bca3946729e45c22e4c3ff004": {
          "model_module": "@jupyter-widgets/base",
          "model_module_version": "1.2.0",
          "model_name": "LayoutModel",
          "state": {
            "_model_module": "@jupyter-widgets/base",
            "_model_module_version": "1.2.0",
            "_model_name": "LayoutModel",
            "_view_count": null,
            "_view_module": "@jupyter-widgets/base",
            "_view_module_version": "1.2.0",
            "_view_name": "LayoutView",
            "align_content": null,
            "align_items": null,
            "align_self": null,
            "border": null,
            "bottom": null,
            "display": null,
            "flex": null,
            "flex_flow": null,
            "grid_area": null,
            "grid_auto_columns": null,
            "grid_auto_flow": null,
            "grid_auto_rows": null,
            "grid_column": null,
            "grid_gap": null,
            "grid_row": null,
            "grid_template_areas": null,
            "grid_template_columns": null,
            "grid_template_rows": null,
            "height": null,
            "justify_content": null,
            "justify_items": null,
            "left": null,
            "margin": null,
            "max_height": null,
            "max_width": null,
            "min_height": null,
            "min_width": null,
            "object_fit": null,
            "object_position": null,
            "order": null,
            "overflow": null,
            "overflow_x": null,
            "overflow_y": null,
            "padding": null,
            "right": null,
            "top": null,
            "visibility": null,
            "width": null
          }
        },
        "360d9da1eb704e659e5f32cbcf527c5f": {
          "model_module": "@jupyter-widgets/controls",
          "model_module_version": "1.5.0",
          "model_name": "DescriptionStyleModel",
          "state": {
            "_model_module": "@jupyter-widgets/controls",
            "_model_module_version": "1.5.0",
            "_model_name": "DescriptionStyleModel",
            "_view_count": null,
            "_view_module": "@jupyter-widgets/base",
            "_view_module_version": "1.2.0",
            "_view_name": "StyleView",
            "description_width": ""
          }
        },
        "3b04ca7858ce4b8abe2220e066a532d2": {
          "model_module": "@jupyter-widgets/base",
          "model_module_version": "1.2.0",
          "model_name": "LayoutModel",
          "state": {
            "_model_module": "@jupyter-widgets/base",
            "_model_module_version": "1.2.0",
            "_model_name": "LayoutModel",
            "_view_count": null,
            "_view_module": "@jupyter-widgets/base",
            "_view_module_version": "1.2.0",
            "_view_name": "LayoutView",
            "align_content": null,
            "align_items": null,
            "align_self": null,
            "border": null,
            "bottom": null,
            "display": null,
            "flex": null,
            "flex_flow": null,
            "grid_area": null,
            "grid_auto_columns": null,
            "grid_auto_flow": null,
            "grid_auto_rows": null,
            "grid_column": null,
            "grid_gap": null,
            "grid_row": null,
            "grid_template_areas": null,
            "grid_template_columns": null,
            "grid_template_rows": null,
            "height": null,
            "justify_content": null,
            "justify_items": null,
            "left": null,
            "margin": null,
            "max_height": null,
            "max_width": null,
            "min_height": null,
            "min_width": null,
            "object_fit": null,
            "object_position": null,
            "order": null,
            "overflow": null,
            "overflow_x": null,
            "overflow_y": null,
            "padding": null,
            "right": null,
            "top": null,
            "visibility": null,
            "width": null
          }
        },
        "3ccd5a81f99945e583364a8386947cc8": {
          "model_module": "@jupyter-widgets/base",
          "model_module_version": "1.2.0",
          "model_name": "LayoutModel",
          "state": {
            "_model_module": "@jupyter-widgets/base",
            "_model_module_version": "1.2.0",
            "_model_name": "LayoutModel",
            "_view_count": null,
            "_view_module": "@jupyter-widgets/base",
            "_view_module_version": "1.2.0",
            "_view_name": "LayoutView",
            "align_content": null,
            "align_items": null,
            "align_self": null,
            "border": null,
            "bottom": null,
            "display": null,
            "flex": null,
            "flex_flow": null,
            "grid_area": null,
            "grid_auto_columns": null,
            "grid_auto_flow": null,
            "grid_auto_rows": null,
            "grid_column": null,
            "grid_gap": null,
            "grid_row": null,
            "grid_template_areas": null,
            "grid_template_columns": null,
            "grid_template_rows": null,
            "height": null,
            "justify_content": null,
            "justify_items": null,
            "left": null,
            "margin": null,
            "max_height": null,
            "max_width": null,
            "min_height": null,
            "min_width": null,
            "object_fit": null,
            "object_position": null,
            "order": null,
            "overflow": null,
            "overflow_x": null,
            "overflow_y": null,
            "padding": null,
            "right": null,
            "top": null,
            "visibility": null,
            "width": null
          }
        },
        "40c82979192e45f596c3ba9b5e855257": {
          "model_module": "@jupyter-widgets/controls",
          "model_module_version": "1.5.0",
          "model_name": "FloatProgressModel",
          "state": {
            "_dom_classes": [],
            "_model_module": "@jupyter-widgets/controls",
            "_model_module_version": "1.5.0",
            "_model_name": "FloatProgressModel",
            "_view_count": null,
            "_view_module": "@jupyter-widgets/controls",
            "_view_module_version": "1.5.0",
            "_view_name": "ProgressView",
            "bar_style": "success",
            "description": "",
            "description_tooltip": null,
            "layout": "IPY_MODEL_268ea891550744b88a4a7eff52bc46c6",
            "max": 255,
            "min": 0,
            "orientation": "horizontal",
            "style": "IPY_MODEL_163da9e0a2744021889f14ccdaa7d5fc",
            "value": 255
          }
        },
        "4228c03bca6a4af8bd7e617bf4b85499": {
          "model_module": "@jupyter-widgets/controls",
          "model_module_version": "1.5.0",
          "model_name": "HBoxModel",
          "state": {
            "_dom_classes": [],
            "_model_module": "@jupyter-widgets/controls",
            "_model_module_version": "1.5.0",
            "_model_name": "HBoxModel",
            "_view_count": null,
            "_view_module": "@jupyter-widgets/controls",
            "_view_module_version": "1.5.0",
            "_view_name": "HBoxView",
            "box_style": "",
            "children": [
              "IPY_MODEL_ef269b812e854c9d88c285d5c6c6dce1",
              "IPY_MODEL_b3644c2539fe411d8842f9fd36cde12e",
              "IPY_MODEL_7f274be36213491c8273756901321923"
            ],
            "layout": "IPY_MODEL_6325950565ee42dfb9be0140d4815bd6"
          }
        },
        "43e66fb79c984cd3b340da8e4f565aa9": {
          "model_module": "@jupyter-widgets/controls",
          "model_module_version": "1.5.0",
          "model_name": "HBoxModel",
          "state": {
            "_dom_classes": [],
            "_model_module": "@jupyter-widgets/controls",
            "_model_module_version": "1.5.0",
            "_model_name": "HBoxModel",
            "_view_count": null,
            "_view_module": "@jupyter-widgets/controls",
            "_view_module_version": "1.5.0",
            "_view_name": "HBoxView",
            "box_style": "",
            "children": [
              "IPY_MODEL_6d6401d80deb482cb3bea5c4a498f7ab",
              "IPY_MODEL_04ab226e3f9849bd90533e2b91ef491a",
              "IPY_MODEL_941d466d01b04a7ebcb53ef761153815"
            ],
            "layout": "IPY_MODEL_9353aa73cc3742579f39d80fdfb0ff9d"
          }
        },
        "499ec3de967b423ba4b86c3f9c5b5a7b": {
          "model_module": "@jupyter-widgets/base",
          "model_module_version": "1.2.0",
          "model_name": "LayoutModel",
          "state": {
            "_model_module": "@jupyter-widgets/base",
            "_model_module_version": "1.2.0",
            "_model_name": "LayoutModel",
            "_view_count": null,
            "_view_module": "@jupyter-widgets/base",
            "_view_module_version": "1.2.0",
            "_view_name": "LayoutView",
            "align_content": null,
            "align_items": null,
            "align_self": null,
            "border": null,
            "bottom": null,
            "display": null,
            "flex": null,
            "flex_flow": null,
            "grid_area": null,
            "grid_auto_columns": null,
            "grid_auto_flow": null,
            "grid_auto_rows": null,
            "grid_column": null,
            "grid_gap": null,
            "grid_row": null,
            "grid_template_areas": null,
            "grid_template_columns": null,
            "grid_template_rows": null,
            "height": null,
            "justify_content": null,
            "justify_items": null,
            "left": null,
            "margin": null,
            "max_height": null,
            "max_width": null,
            "min_height": null,
            "min_width": null,
            "object_fit": null,
            "object_position": null,
            "order": null,
            "overflow": null,
            "overflow_x": null,
            "overflow_y": null,
            "padding": null,
            "right": null,
            "top": null,
            "visibility": null,
            "width": null
          }
        },
        "49b0765450a748719179a14afe4b1815": {
          "model_module": "@jupyter-widgets/base",
          "model_module_version": "1.2.0",
          "model_name": "LayoutModel",
          "state": {
            "_model_module": "@jupyter-widgets/base",
            "_model_module_version": "1.2.0",
            "_model_name": "LayoutModel",
            "_view_count": null,
            "_view_module": "@jupyter-widgets/base",
            "_view_module_version": "1.2.0",
            "_view_name": "LayoutView",
            "align_content": null,
            "align_items": null,
            "align_self": null,
            "border": null,
            "bottom": null,
            "display": null,
            "flex": null,
            "flex_flow": null,
            "grid_area": null,
            "grid_auto_columns": null,
            "grid_auto_flow": null,
            "grid_auto_rows": null,
            "grid_column": null,
            "grid_gap": null,
            "grid_row": null,
            "grid_template_areas": null,
            "grid_template_columns": null,
            "grid_template_rows": null,
            "height": null,
            "justify_content": null,
            "justify_items": null,
            "left": null,
            "margin": null,
            "max_height": null,
            "max_width": null,
            "min_height": null,
            "min_width": null,
            "object_fit": null,
            "object_position": null,
            "order": null,
            "overflow": null,
            "overflow_x": null,
            "overflow_y": null,
            "padding": null,
            "right": null,
            "top": null,
            "visibility": null,
            "width": null
          }
        },
        "4a4576e02be24efab5e15799a194e7ea": {
          "model_module": "@jupyter-widgets/controls",
          "model_module_version": "1.5.0",
          "model_name": "HTMLModel",
          "state": {
            "_dom_classes": [],
            "_model_module": "@jupyter-widgets/controls",
            "_model_module_version": "1.5.0",
            "_model_name": "HTMLModel",
            "_view_count": null,
            "_view_module": "@jupyter-widgets/controls",
            "_view_module_version": "1.5.0",
            "_view_name": "HTMLView",
            "description": "",
            "description_tooltip": null,
            "layout": "IPY_MODEL_16ba5a104b0f4f8796db757d9644139c",
            "placeholder": "​",
            "style": "IPY_MODEL_cbd30f7d7ae14741bbfd20199a3a9af7",
            "value": " 798k/798k [00:00&lt;00:00, 10.3MB/s]"
          }
        },
        "4cc75fa7936c4f35bd0b74f4f8a06e1f": {
          "model_module": "@jupyter-widgets/controls",
          "model_module_version": "1.5.0",
          "model_name": "HTMLModel",
          "state": {
            "_dom_classes": [],
            "_model_module": "@jupyter-widgets/controls",
            "_model_module_version": "1.5.0",
            "_model_name": "HTMLModel",
            "_view_count": null,
            "_view_module": "@jupyter-widgets/controls",
            "_view_module_version": "1.5.0",
            "_view_name": "HTMLView",
            "description": "",
            "description_tooltip": null,
            "layout": "IPY_MODEL_12e25e9f92ba4692914e8a5b800d0112",
            "placeholder": "​",
            "style": "IPY_MODEL_7e614bd7d2d143d7ba0087d0fae5586a",
            "value": "tokenizer_config.json: 100%"
          }
        },
        "4df89fe5f9db4c359c47a49936a8db7c": {
          "model_module": "@jupyter-widgets/controls",
          "model_module_version": "1.5.0",
          "model_name": "ProgressStyleModel",
          "state": {
            "_model_module": "@jupyter-widgets/controls",
            "_model_module_version": "1.5.0",
            "_model_name": "ProgressStyleModel",
            "_view_count": null,
            "_view_module": "@jupyter-widgets/base",
            "_view_module_version": "1.2.0",
            "_view_name": "StyleView",
            "bar_color": null,
            "description_width": ""
          }
        },
        "5378484f9a9e45c986d145e1332e7987": {
          "model_module": "@jupyter-widgets/base",
          "model_module_version": "1.2.0",
          "model_name": "LayoutModel",
          "state": {
            "_model_module": "@jupyter-widgets/base",
            "_model_module_version": "1.2.0",
            "_model_name": "LayoutModel",
            "_view_count": null,
            "_view_module": "@jupyter-widgets/base",
            "_view_module_version": "1.2.0",
            "_view_name": "LayoutView",
            "align_content": null,
            "align_items": null,
            "align_self": null,
            "border": null,
            "bottom": null,
            "display": null,
            "flex": null,
            "flex_flow": null,
            "grid_area": null,
            "grid_auto_columns": null,
            "grid_auto_flow": null,
            "grid_auto_rows": null,
            "grid_column": null,
            "grid_gap": null,
            "grid_row": null,
            "grid_template_areas": null,
            "grid_template_columns": null,
            "grid_template_rows": null,
            "height": null,
            "justify_content": null,
            "justify_items": null,
            "left": null,
            "margin": null,
            "max_height": null,
            "max_width": null,
            "min_height": null,
            "min_width": null,
            "object_fit": null,
            "object_position": null,
            "order": null,
            "overflow": null,
            "overflow_x": null,
            "overflow_y": null,
            "padding": null,
            "right": null,
            "top": null,
            "visibility": null,
            "width": null
          }
        },
        "54962ce2a10f484498b20d9fe755082b": {
          "model_module": "@jupyter-widgets/base",
          "model_module_version": "1.2.0",
          "model_name": "LayoutModel",
          "state": {
            "_model_module": "@jupyter-widgets/base",
            "_model_module_version": "1.2.0",
            "_model_name": "LayoutModel",
            "_view_count": null,
            "_view_module": "@jupyter-widgets/base",
            "_view_module_version": "1.2.0",
            "_view_name": "LayoutView",
            "align_content": null,
            "align_items": null,
            "align_self": null,
            "border": null,
            "bottom": null,
            "display": null,
            "flex": null,
            "flex_flow": null,
            "grid_area": null,
            "grid_auto_columns": null,
            "grid_auto_flow": null,
            "grid_auto_rows": null,
            "grid_column": null,
            "grid_gap": null,
            "grid_row": null,
            "grid_template_areas": null,
            "grid_template_columns": null,
            "grid_template_rows": null,
            "height": null,
            "justify_content": null,
            "justify_items": null,
            "left": null,
            "margin": null,
            "max_height": null,
            "max_width": null,
            "min_height": null,
            "min_width": null,
            "object_fit": null,
            "object_position": null,
            "order": null,
            "overflow": null,
            "overflow_x": null,
            "overflow_y": null,
            "padding": null,
            "right": null,
            "top": null,
            "visibility": null,
            "width": null
          }
        },
        "54a7643066e143c3bf8b2a18d982ad96": {
          "model_module": "@jupyter-widgets/base",
          "model_module_version": "1.2.0",
          "model_name": "LayoutModel",
          "state": {
            "_model_module": "@jupyter-widgets/base",
            "_model_module_version": "1.2.0",
            "_model_name": "LayoutModel",
            "_view_count": null,
            "_view_module": "@jupyter-widgets/base",
            "_view_module_version": "1.2.0",
            "_view_name": "LayoutView",
            "align_content": null,
            "align_items": null,
            "align_self": null,
            "border": null,
            "bottom": null,
            "display": null,
            "flex": null,
            "flex_flow": null,
            "grid_area": null,
            "grid_auto_columns": null,
            "grid_auto_flow": null,
            "grid_auto_rows": null,
            "grid_column": null,
            "grid_gap": null,
            "grid_row": null,
            "grid_template_areas": null,
            "grid_template_columns": null,
            "grid_template_rows": null,
            "height": null,
            "justify_content": null,
            "justify_items": null,
            "left": null,
            "margin": null,
            "max_height": null,
            "max_width": null,
            "min_height": null,
            "min_width": null,
            "object_fit": null,
            "object_position": null,
            "order": null,
            "overflow": null,
            "overflow_x": null,
            "overflow_y": null,
            "padding": null,
            "right": null,
            "top": null,
            "visibility": null,
            "width": null
          }
        },
        "552bb18f3aa048f1b001e68e38249fa2": {
          "model_module": "@jupyter-widgets/controls",
          "model_module_version": "1.5.0",
          "model_name": "FloatProgressModel",
          "state": {
            "_dom_classes": [],
            "_model_module": "@jupyter-widgets/controls",
            "_model_module_version": "1.5.0",
            "_model_name": "FloatProgressModel",
            "_view_count": null,
            "_view_module": "@jupyter-widgets/controls",
            "_view_module_version": "1.5.0",
            "_view_name": "ProgressView",
            "bar_style": "success",
            "description": "",
            "description_tooltip": null,
            "layout": "IPY_MODEL_b7da79a71f4e44839ca537559e370f7b",
            "max": 20,
            "min": 0,
            "orientation": "horizontal",
            "style": "IPY_MODEL_9b4a0e4461d4400c83b71ac8b7ff5dd0",
            "value": 20
          }
        },
        "584c539c3f394b82a04fceeb9d27fc2f": {
          "model_module": "@jupyter-widgets/base",
          "model_module_version": "1.2.0",
          "model_name": "LayoutModel",
          "state": {
            "_model_module": "@jupyter-widgets/base",
            "_model_module_version": "1.2.0",
            "_model_name": "LayoutModel",
            "_view_count": null,
            "_view_module": "@jupyter-widgets/base",
            "_view_module_version": "1.2.0",
            "_view_name": "LayoutView",
            "align_content": null,
            "align_items": null,
            "align_self": null,
            "border": null,
            "bottom": null,
            "display": null,
            "flex": null,
            "flex_flow": null,
            "grid_area": null,
            "grid_auto_columns": null,
            "grid_auto_flow": null,
            "grid_auto_rows": null,
            "grid_column": null,
            "grid_gap": null,
            "grid_row": null,
            "grid_template_areas": null,
            "grid_template_columns": null,
            "grid_template_rows": null,
            "height": null,
            "justify_content": null,
            "justify_items": null,
            "left": null,
            "margin": null,
            "max_height": null,
            "max_width": null,
            "min_height": null,
            "min_width": null,
            "object_fit": null,
            "object_position": null,
            "order": null,
            "overflow": null,
            "overflow_x": null,
            "overflow_y": null,
            "padding": null,
            "right": null,
            "top": null,
            "visibility": null,
            "width": null
          }
        },
        "5ed7d953daa54fe1b28abeb15b4b0b42": {
          "model_module": "@jupyter-widgets/controls",
          "model_module_version": "1.5.0",
          "model_name": "DescriptionStyleModel",
          "state": {
            "_model_module": "@jupyter-widgets/controls",
            "_model_module_version": "1.5.0",
            "_model_name": "DescriptionStyleModel",
            "_view_count": null,
            "_view_module": "@jupyter-widgets/base",
            "_view_module_version": "1.2.0",
            "_view_name": "StyleView",
            "description_width": ""
          }
        },
        "5f6e1fba217347d08f4fcdeed6f8deec": {
          "model_module": "@jupyter-widgets/controls",
          "model_module_version": "1.5.0",
          "model_name": "DescriptionStyleModel",
          "state": {
            "_model_module": "@jupyter-widgets/controls",
            "_model_module_version": "1.5.0",
            "_model_name": "DescriptionStyleModel",
            "_view_count": null,
            "_view_module": "@jupyter-widgets/base",
            "_view_module_version": "1.2.0",
            "_view_name": "StyleView",
            "description_width": ""
          }
        },
        "61ea03b9d6ad4bc0b15385da545a49e0": {
          "model_module": "@jupyter-widgets/controls",
          "model_module_version": "1.5.0",
          "model_name": "HTMLModel",
          "state": {
            "_dom_classes": [],
            "_model_module": "@jupyter-widgets/controls",
            "_model_module_version": "1.5.0",
            "_model_name": "HTMLModel",
            "_view_count": null,
            "_view_module": "@jupyter-widgets/controls",
            "_view_module_version": "1.5.0",
            "_view_name": "HTMLView",
            "description": "",
            "description_tooltip": null,
            "layout": "IPY_MODEL_e6be155d71aa4b399265b6dc914a2f5f",
            "placeholder": "​",
            "style": "IPY_MODEL_0f9e7a01cc264cdfb6d34e3892eec35c",
            "value": " 20/20 [01:53&lt;00:00,  5.32s/it]"
          }
        },
        "6325950565ee42dfb9be0140d4815bd6": {
          "model_module": "@jupyter-widgets/base",
          "model_module_version": "1.2.0",
          "model_name": "LayoutModel",
          "state": {
            "_model_module": "@jupyter-widgets/base",
            "_model_module_version": "1.2.0",
            "_model_name": "LayoutModel",
            "_view_count": null,
            "_view_module": "@jupyter-widgets/base",
            "_view_module_version": "1.2.0",
            "_view_name": "LayoutView",
            "align_content": null,
            "align_items": null,
            "align_self": null,
            "border": null,
            "bottom": null,
            "display": null,
            "flex": null,
            "flex_flow": null,
            "grid_area": null,
            "grid_auto_columns": null,
            "grid_auto_flow": null,
            "grid_auto_rows": null,
            "grid_column": null,
            "grid_gap": null,
            "grid_row": null,
            "grid_template_areas": null,
            "grid_template_columns": null,
            "grid_template_rows": null,
            "height": null,
            "justify_content": null,
            "justify_items": null,
            "left": null,
            "margin": null,
            "max_height": null,
            "max_width": null,
            "min_height": null,
            "min_width": null,
            "object_fit": null,
            "object_position": null,
            "order": null,
            "overflow": null,
            "overflow_x": null,
            "overflow_y": null,
            "padding": null,
            "right": null,
            "top": null,
            "visibility": null,
            "width": null
          }
        },
        "67bdb5917e084025868d29e30d661f2e": {
          "model_module": "@jupyter-widgets/base",
          "model_module_version": "1.2.0",
          "model_name": "LayoutModel",
          "state": {
            "_model_module": "@jupyter-widgets/base",
            "_model_module_version": "1.2.0",
            "_model_name": "LayoutModel",
            "_view_count": null,
            "_view_module": "@jupyter-widgets/base",
            "_view_module_version": "1.2.0",
            "_view_name": "LayoutView",
            "align_content": null,
            "align_items": null,
            "align_self": null,
            "border": null,
            "bottom": null,
            "display": null,
            "flex": null,
            "flex_flow": null,
            "grid_area": null,
            "grid_auto_columns": null,
            "grid_auto_flow": null,
            "grid_auto_rows": null,
            "grid_column": null,
            "grid_gap": null,
            "grid_row": null,
            "grid_template_areas": null,
            "grid_template_columns": null,
            "grid_template_rows": null,
            "height": null,
            "justify_content": null,
            "justify_items": null,
            "left": null,
            "margin": null,
            "max_height": null,
            "max_width": null,
            "min_height": null,
            "min_width": null,
            "object_fit": null,
            "object_position": null,
            "order": null,
            "overflow": null,
            "overflow_x": null,
            "overflow_y": null,
            "padding": null,
            "right": null,
            "top": null,
            "visibility": null,
            "width": null
          }
        },
        "6830564e1b774d4d9c7df87f2de5307d": {
          "model_module": "@jupyter-widgets/controls",
          "model_module_version": "1.5.0",
          "model_name": "ProgressStyleModel",
          "state": {
            "_model_module": "@jupyter-widgets/controls",
            "_model_module_version": "1.5.0",
            "_model_name": "ProgressStyleModel",
            "_view_count": null,
            "_view_module": "@jupyter-widgets/base",
            "_view_module_version": "1.2.0",
            "_view_name": "StyleView",
            "bar_color": null,
            "description_width": ""
          }
        },
        "6d6401d80deb482cb3bea5c4a498f7ab": {
          "model_module": "@jupyter-widgets/controls",
          "model_module_version": "1.5.0",
          "model_name": "HTMLModel",
          "state": {
            "_dom_classes": [],
            "_model_module": "@jupyter-widgets/controls",
            "_model_module_version": "1.5.0",
            "_model_name": "HTMLModel",
            "_view_count": null,
            "_view_module": "@jupyter-widgets/controls",
            "_view_module_version": "1.5.0",
            "_view_name": "HTMLView",
            "description": "",
            "description_tooltip": null,
            "layout": "IPY_MODEL_584c539c3f394b82a04fceeb9d27fc2f",
            "placeholder": "​",
            "style": "IPY_MODEL_d4f846134916494d97c6ca6f109c668a",
            "value": "merges.txt: 100%"
          }
        },
        "6ea4280e040243da9e8f225a2dea08fb": {
          "model_module": "@jupyter-widgets/base",
          "model_module_version": "1.2.0",
          "model_name": "LayoutModel",
          "state": {
            "_model_module": "@jupyter-widgets/base",
            "_model_module_version": "1.2.0",
            "_model_name": "LayoutModel",
            "_view_count": null,
            "_view_module": "@jupyter-widgets/base",
            "_view_module_version": "1.2.0",
            "_view_name": "LayoutView",
            "align_content": null,
            "align_items": null,
            "align_self": null,
            "border": null,
            "bottom": null,
            "display": null,
            "flex": null,
            "flex_flow": null,
            "grid_area": null,
            "grid_auto_columns": null,
            "grid_auto_flow": null,
            "grid_auto_rows": null,
            "grid_column": null,
            "grid_gap": null,
            "grid_row": null,
            "grid_template_areas": null,
            "grid_template_columns": null,
            "grid_template_rows": null,
            "height": null,
            "justify_content": null,
            "justify_items": null,
            "left": null,
            "margin": null,
            "max_height": null,
            "max_width": null,
            "min_height": null,
            "min_width": null,
            "object_fit": null,
            "object_position": null,
            "order": null,
            "overflow": null,
            "overflow_x": null,
            "overflow_y": null,
            "padding": null,
            "right": null,
            "top": null,
            "visibility": null,
            "width": null
          }
        },
        "73e8f5c594f4479186489426dbe76973": {
          "model_module": "@jupyter-widgets/controls",
          "model_module_version": "1.5.0",
          "model_name": "DescriptionStyleModel",
          "state": {
            "_model_module": "@jupyter-widgets/controls",
            "_model_module_version": "1.5.0",
            "_model_name": "DescriptionStyleModel",
            "_view_count": null,
            "_view_module": "@jupyter-widgets/base",
            "_view_module_version": "1.2.0",
            "_view_name": "StyleView",
            "description_width": ""
          }
        },
        "7555c899f0fd48488c4667ea3e3712bc": {
          "model_module": "@jupyter-widgets/controls",
          "model_module_version": "1.5.0",
          "model_name": "HTMLModel",
          "state": {
            "_dom_classes": [],
            "_model_module": "@jupyter-widgets/controls",
            "_model_module_version": "1.5.0",
            "_model_name": "HTMLModel",
            "_view_count": null,
            "_view_module": "@jupyter-widgets/controls",
            "_view_module_version": "1.5.0",
            "_view_name": "HTMLView",
            "description": "",
            "description_tooltip": null,
            "layout": "IPY_MODEL_34ca598bca3946729e45c22e4c3ff004",
            "placeholder": "​",
            "style": "IPY_MODEL_360d9da1eb704e659e5f32cbcf527c5f",
            "value": " 20/20 [00:47&lt;00:00,  2.03s/it]"
          }
        },
        "763909407fe445569ca08a7e7f4b2559": {
          "model_module": "@jupyter-widgets/controls",
          "model_module_version": "1.5.0",
          "model_name": "DescriptionStyleModel",
          "state": {
            "_model_module": "@jupyter-widgets/controls",
            "_model_module_version": "1.5.0",
            "_model_name": "DescriptionStyleModel",
            "_view_count": null,
            "_view_module": "@jupyter-widgets/base",
            "_view_module_version": "1.2.0",
            "_view_name": "StyleView",
            "description_width": ""
          }
        },
        "7e50a473c31d42eb86c850ec3be52f4a": {
          "model_module": "@jupyter-widgets/base",
          "model_module_version": "1.2.0",
          "model_name": "LayoutModel",
          "state": {
            "_model_module": "@jupyter-widgets/base",
            "_model_module_version": "1.2.0",
            "_model_name": "LayoutModel",
            "_view_count": null,
            "_view_module": "@jupyter-widgets/base",
            "_view_module_version": "1.2.0",
            "_view_name": "LayoutView",
            "align_content": null,
            "align_items": null,
            "align_self": null,
            "border": null,
            "bottom": null,
            "display": null,
            "flex": null,
            "flex_flow": null,
            "grid_area": null,
            "grid_auto_columns": null,
            "grid_auto_flow": null,
            "grid_auto_rows": null,
            "grid_column": null,
            "grid_gap": null,
            "grid_row": null,
            "grid_template_areas": null,
            "grid_template_columns": null,
            "grid_template_rows": null,
            "height": null,
            "justify_content": null,
            "justify_items": null,
            "left": null,
            "margin": null,
            "max_height": null,
            "max_width": null,
            "min_height": null,
            "min_width": null,
            "object_fit": null,
            "object_position": null,
            "order": null,
            "overflow": null,
            "overflow_x": null,
            "overflow_y": null,
            "padding": null,
            "right": null,
            "top": null,
            "visibility": null,
            "width": null
          }
        },
        "7e614bd7d2d143d7ba0087d0fae5586a": {
          "model_module": "@jupyter-widgets/controls",
          "model_module_version": "1.5.0",
          "model_name": "DescriptionStyleModel",
          "state": {
            "_model_module": "@jupyter-widgets/controls",
            "_model_module_version": "1.5.0",
            "_model_name": "DescriptionStyleModel",
            "_view_count": null,
            "_view_module": "@jupyter-widgets/base",
            "_view_module_version": "1.2.0",
            "_view_name": "StyleView",
            "description_width": ""
          }
        },
        "7f274be36213491c8273756901321923": {
          "model_module": "@jupyter-widgets/controls",
          "model_module_version": "1.5.0",
          "model_name": "HTMLModel",
          "state": {
            "_dom_classes": [],
            "_model_module": "@jupyter-widgets/controls",
            "_model_module_version": "1.5.0",
            "_model_name": "HTMLModel",
            "_view_count": null,
            "_view_module": "@jupyter-widgets/controls",
            "_view_module_version": "1.5.0",
            "_view_name": "HTMLView",
            "description": "",
            "description_tooltip": null,
            "layout": "IPY_MODEL_28b71d518d604cc4aab110cd27d60228",
            "placeholder": "​",
            "style": "IPY_MODEL_c8342eab6de4498590afc895afd6f2c8",
            "value": " 1.42G/1.42G [00:09&lt;00:00, 244MB/s]"
          }
        },
        "830ad378120041678b0fa04272d1c228": {
          "model_module": "@jupyter-widgets/base",
          "model_module_version": "1.2.0",
          "model_name": "LayoutModel",
          "state": {
            "_model_module": "@jupyter-widgets/base",
            "_model_module_version": "1.2.0",
            "_model_name": "LayoutModel",
            "_view_count": null,
            "_view_module": "@jupyter-widgets/base",
            "_view_module_version": "1.2.0",
            "_view_name": "LayoutView",
            "align_content": null,
            "align_items": null,
            "align_self": null,
            "border": null,
            "bottom": null,
            "display": null,
            "flex": null,
            "flex_flow": null,
            "grid_area": null,
            "grid_auto_columns": null,
            "grid_auto_flow": null,
            "grid_auto_rows": null,
            "grid_column": null,
            "grid_gap": null,
            "grid_row": null,
            "grid_template_areas": null,
            "grid_template_columns": null,
            "grid_template_rows": null,
            "height": null,
            "justify_content": null,
            "justify_items": null,
            "left": null,
            "margin": null,
            "max_height": null,
            "max_width": null,
            "min_height": null,
            "min_width": null,
            "object_fit": null,
            "object_position": null,
            "order": null,
            "overflow": null,
            "overflow_x": null,
            "overflow_y": null,
            "padding": null,
            "right": null,
            "top": null,
            "visibility": null,
            "width": null
          }
        },
        "84c93c18689247a29594fa6fe757bcca": {
          "model_module": "@jupyter-widgets/base",
          "model_module_version": "1.2.0",
          "model_name": "LayoutModel",
          "state": {
            "_model_module": "@jupyter-widgets/base",
            "_model_module_version": "1.2.0",
            "_model_name": "LayoutModel",
            "_view_count": null,
            "_view_module": "@jupyter-widgets/base",
            "_view_module_version": "1.2.0",
            "_view_name": "LayoutView",
            "align_content": null,
            "align_items": null,
            "align_self": null,
            "border": null,
            "bottom": null,
            "display": null,
            "flex": null,
            "flex_flow": null,
            "grid_area": null,
            "grid_auto_columns": null,
            "grid_auto_flow": null,
            "grid_auto_rows": null,
            "grid_column": null,
            "grid_gap": null,
            "grid_row": null,
            "grid_template_areas": null,
            "grid_template_columns": null,
            "grid_template_rows": null,
            "height": null,
            "justify_content": null,
            "justify_items": null,
            "left": null,
            "margin": null,
            "max_height": null,
            "max_width": null,
            "min_height": null,
            "min_width": null,
            "object_fit": null,
            "object_position": null,
            "order": null,
            "overflow": null,
            "overflow_x": null,
            "overflow_y": null,
            "padding": null,
            "right": null,
            "top": null,
            "visibility": null,
            "width": null
          }
        },
        "8c1f5db7b5a946e499df31328228ef02": {
          "model_module": "@jupyter-widgets/controls",
          "model_module_version": "1.5.0",
          "model_name": "DescriptionStyleModel",
          "state": {
            "_model_module": "@jupyter-widgets/controls",
            "_model_module_version": "1.5.0",
            "_model_name": "DescriptionStyleModel",
            "_view_count": null,
            "_view_module": "@jupyter-widgets/base",
            "_view_module_version": "1.2.0",
            "_view_name": "StyleView",
            "description_width": ""
          }
        },
        "8ffeb504e53443e5bc645bf24decece6": {
          "model_module": "@jupyter-widgets/controls",
          "model_module_version": "1.5.0",
          "model_name": "ProgressStyleModel",
          "state": {
            "_model_module": "@jupyter-widgets/controls",
            "_model_module_version": "1.5.0",
            "_model_name": "ProgressStyleModel",
            "_view_count": null,
            "_view_module": "@jupyter-widgets/base",
            "_view_module_version": "1.2.0",
            "_view_name": "StyleView",
            "bar_color": null,
            "description_width": ""
          }
        },
        "905fa5762401488493fac7781f9537bf": {
          "model_module": "@jupyter-widgets/base",
          "model_module_version": "1.2.0",
          "model_name": "LayoutModel",
          "state": {
            "_model_module": "@jupyter-widgets/base",
            "_model_module_version": "1.2.0",
            "_model_name": "LayoutModel",
            "_view_count": null,
            "_view_module": "@jupyter-widgets/base",
            "_view_module_version": "1.2.0",
            "_view_name": "LayoutView",
            "align_content": null,
            "align_items": null,
            "align_self": null,
            "border": null,
            "bottom": null,
            "display": null,
            "flex": null,
            "flex_flow": null,
            "grid_area": null,
            "grid_auto_columns": null,
            "grid_auto_flow": null,
            "grid_auto_rows": null,
            "grid_column": null,
            "grid_gap": null,
            "grid_row": null,
            "grid_template_areas": null,
            "grid_template_columns": null,
            "grid_template_rows": null,
            "height": null,
            "justify_content": null,
            "justify_items": null,
            "left": null,
            "margin": null,
            "max_height": null,
            "max_width": null,
            "min_height": null,
            "min_width": null,
            "object_fit": null,
            "object_position": null,
            "order": null,
            "overflow": null,
            "overflow_x": null,
            "overflow_y": null,
            "padding": null,
            "right": null,
            "top": null,
            "visibility": null,
            "width": null
          }
        },
        "909a09d56cb54c349e108547763285a7": {
          "model_module": "@jupyter-widgets/controls",
          "model_module_version": "1.5.0",
          "model_name": "DescriptionStyleModel",
          "state": {
            "_model_module": "@jupyter-widgets/controls",
            "_model_module_version": "1.5.0",
            "_model_name": "DescriptionStyleModel",
            "_view_count": null,
            "_view_module": "@jupyter-widgets/base",
            "_view_module_version": "1.2.0",
            "_view_name": "StyleView",
            "description_width": ""
          }
        },
        "9353aa73cc3742579f39d80fdfb0ff9d": {
          "model_module": "@jupyter-widgets/base",
          "model_module_version": "1.2.0",
          "model_name": "LayoutModel",
          "state": {
            "_model_module": "@jupyter-widgets/base",
            "_model_module_version": "1.2.0",
            "_model_name": "LayoutModel",
            "_view_count": null,
            "_view_module": "@jupyter-widgets/base",
            "_view_module_version": "1.2.0",
            "_view_name": "LayoutView",
            "align_content": null,
            "align_items": null,
            "align_self": null,
            "border": null,
            "bottom": null,
            "display": null,
            "flex": null,
            "flex_flow": null,
            "grid_area": null,
            "grid_auto_columns": null,
            "grid_auto_flow": null,
            "grid_auto_rows": null,
            "grid_column": null,
            "grid_gap": null,
            "grid_row": null,
            "grid_template_areas": null,
            "grid_template_columns": null,
            "grid_template_rows": null,
            "height": null,
            "justify_content": null,
            "justify_items": null,
            "left": null,
            "margin": null,
            "max_height": null,
            "max_width": null,
            "min_height": null,
            "min_width": null,
            "object_fit": null,
            "object_position": null,
            "order": null,
            "overflow": null,
            "overflow_x": null,
            "overflow_y": null,
            "padding": null,
            "right": null,
            "top": null,
            "visibility": null,
            "width": null
          }
        },
        "941d466d01b04a7ebcb53ef761153815": {
          "model_module": "@jupyter-widgets/controls",
          "model_module_version": "1.5.0",
          "model_name": "HTMLModel",
          "state": {
            "_dom_classes": [],
            "_model_module": "@jupyter-widgets/controls",
            "_model_module_version": "1.5.0",
            "_model_name": "HTMLModel",
            "_view_count": null,
            "_view_module": "@jupyter-widgets/controls",
            "_view_module_version": "1.5.0",
            "_view_name": "HTMLView",
            "description": "",
            "description_tooltip": null,
            "layout": "IPY_MODEL_98201b667bad4091b2fa494da8a32b4f",
            "placeholder": "​",
            "style": "IPY_MODEL_5f6e1fba217347d08f4fcdeed6f8deec",
            "value": " 456k/456k [00:00&lt;00:00, 2.15MB/s]"
          }
        },
        "98201b667bad4091b2fa494da8a32b4f": {
          "model_module": "@jupyter-widgets/base",
          "model_module_version": "1.2.0",
          "model_name": "LayoutModel",
          "state": {
            "_model_module": "@jupyter-widgets/base",
            "_model_module_version": "1.2.0",
            "_model_name": "LayoutModel",
            "_view_count": null,
            "_view_module": "@jupyter-widgets/base",
            "_view_module_version": "1.2.0",
            "_view_name": "LayoutView",
            "align_content": null,
            "align_items": null,
            "align_self": null,
            "border": null,
            "bottom": null,
            "display": null,
            "flex": null,
            "flex_flow": null,
            "grid_area": null,
            "grid_auto_columns": null,
            "grid_auto_flow": null,
            "grid_auto_rows": null,
            "grid_column": null,
            "grid_gap": null,
            "grid_row": null,
            "grid_template_areas": null,
            "grid_template_columns": null,
            "grid_template_rows": null,
            "height": null,
            "justify_content": null,
            "justify_items": null,
            "left": null,
            "margin": null,
            "max_height": null,
            "max_width": null,
            "min_height": null,
            "min_width": null,
            "object_fit": null,
            "object_position": null,
            "order": null,
            "overflow": null,
            "overflow_x": null,
            "overflow_y": null,
            "padding": null,
            "right": null,
            "top": null,
            "visibility": null,
            "width": null
          }
        },
        "9b4a0e4461d4400c83b71ac8b7ff5dd0": {
          "model_module": "@jupyter-widgets/controls",
          "model_module_version": "1.5.0",
          "model_name": "ProgressStyleModel",
          "state": {
            "_model_module": "@jupyter-widgets/controls",
            "_model_module_version": "1.5.0",
            "_model_name": "ProgressStyleModel",
            "_view_count": null,
            "_view_module": "@jupyter-widgets/base",
            "_view_module_version": "1.2.0",
            "_view_name": "StyleView",
            "bar_color": null,
            "description_width": ""
          }
        },
        "9cab088af7804b8c96446dda54b4fa4e": {
          "model_module": "@jupyter-widgets/base",
          "model_module_version": "1.2.0",
          "model_name": "LayoutModel",
          "state": {
            "_model_module": "@jupyter-widgets/base",
            "_model_module_version": "1.2.0",
            "_model_name": "LayoutModel",
            "_view_count": null,
            "_view_module": "@jupyter-widgets/base",
            "_view_module_version": "1.2.0",
            "_view_name": "LayoutView",
            "align_content": null,
            "align_items": null,
            "align_self": null,
            "border": null,
            "bottom": null,
            "display": null,
            "flex": null,
            "flex_flow": null,
            "grid_area": null,
            "grid_auto_columns": null,
            "grid_auto_flow": null,
            "grid_auto_rows": null,
            "grid_column": null,
            "grid_gap": null,
            "grid_row": null,
            "grid_template_areas": null,
            "grid_template_columns": null,
            "grid_template_rows": null,
            "height": null,
            "justify_content": null,
            "justify_items": null,
            "left": null,
            "margin": null,
            "max_height": null,
            "max_width": null,
            "min_height": null,
            "min_width": null,
            "object_fit": null,
            "object_position": null,
            "order": null,
            "overflow": null,
            "overflow_x": null,
            "overflow_y": null,
            "padding": null,
            "right": null,
            "top": null,
            "visibility": null,
            "width": null
          }
        },
        "9f30d32c9dca4c9ba0ef602719d5b7c9": {
          "model_module": "@jupyter-widgets/base",
          "model_module_version": "1.2.0",
          "model_name": "LayoutModel",
          "state": {
            "_model_module": "@jupyter-widgets/base",
            "_model_module_version": "1.2.0",
            "_model_name": "LayoutModel",
            "_view_count": null,
            "_view_module": "@jupyter-widgets/base",
            "_view_module_version": "1.2.0",
            "_view_name": "LayoutView",
            "align_content": null,
            "align_items": null,
            "align_self": null,
            "border": null,
            "bottom": null,
            "display": null,
            "flex": null,
            "flex_flow": null,
            "grid_area": null,
            "grid_auto_columns": null,
            "grid_auto_flow": null,
            "grid_auto_rows": null,
            "grid_column": null,
            "grid_gap": null,
            "grid_row": null,
            "grid_template_areas": null,
            "grid_template_columns": null,
            "grid_template_rows": null,
            "height": null,
            "justify_content": null,
            "justify_items": null,
            "left": null,
            "margin": null,
            "max_height": null,
            "max_width": null,
            "min_height": null,
            "min_width": null,
            "object_fit": null,
            "object_position": null,
            "order": null,
            "overflow": null,
            "overflow_x": null,
            "overflow_y": null,
            "padding": null,
            "right": null,
            "top": null,
            "visibility": null,
            "width": null
          }
        },
        "b3644c2539fe411d8842f9fd36cde12e": {
          "model_module": "@jupyter-widgets/controls",
          "model_module_version": "1.5.0",
          "model_name": "FloatProgressModel",
          "state": {
            "_dom_classes": [],
            "_model_module": "@jupyter-widgets/controls",
            "_model_module_version": "1.5.0",
            "_model_name": "FloatProgressModel",
            "_view_count": null,
            "_view_module": "@jupyter-widgets/controls",
            "_view_module_version": "1.5.0",
            "_view_name": "ProgressView",
            "bar_style": "success",
            "description": "",
            "description_tooltip": null,
            "layout": "IPY_MODEL_cd7e7bd0d4f247d2bac16385900a0352",
            "max": 1417313294,
            "min": 0,
            "orientation": "horizontal",
            "style": "IPY_MODEL_110305f0c8ce42979aae454ad9ea0300",
            "value": 1417313294
          }
        },
        "b4815c631b054cba9140836cc3d5355a": {
          "model_module": "@jupyter-widgets/controls",
          "model_module_version": "1.5.0",
          "model_name": "HTMLModel",
          "state": {
            "_dom_classes": [],
            "_model_module": "@jupyter-widgets/controls",
            "_model_module_version": "1.5.0",
            "_model_name": "HTMLModel",
            "_view_count": null,
            "_view_module": "@jupyter-widgets/controls",
            "_view_module_version": "1.5.0",
            "_view_name": "HTMLView",
            "description": "",
            "description_tooltip": null,
            "layout": "IPY_MODEL_3b04ca7858ce4b8abe2220e066a532d2",
            "placeholder": "​",
            "style": "IPY_MODEL_5ed7d953daa54fe1b28abeb15b4b0b42",
            "value": "special_tokens_map.json: 100%"
          }
        },
        "b5c11451160647e98cfb9a2d3b7dd9fc": {
          "model_module": "@jupyter-widgets/controls",
          "model_module_version": "1.5.0",
          "model_name": "FloatProgressModel",
          "state": {
            "_dom_classes": [],
            "_model_module": "@jupyter-widgets/controls",
            "_model_module_version": "1.5.0",
            "_model_name": "FloatProgressModel",
            "_view_count": null,
            "_view_module": "@jupyter-widgets/controls",
            "_view_module_version": "1.5.0",
            "_view_name": "ProgressView",
            "bar_style": "success",
            "description": "",
            "description_tooltip": null,
            "layout": "IPY_MODEL_67bdb5917e084025868d29e30d661f2e",
            "max": 849,
            "min": 0,
            "orientation": "horizontal",
            "style": "IPY_MODEL_6830564e1b774d4d9c7df87f2de5307d",
            "value": 849
          }
        },
        "b72e653798cf4e428443ceb8c72bf078": {
          "model_module": "@jupyter-widgets/controls",
          "model_module_version": "1.5.0",
          "model_name": "HBoxModel",
          "state": {
            "_dom_classes": [],
            "_model_module": "@jupyter-widgets/controls",
            "_model_module_version": "1.5.0",
            "_model_name": "HBoxModel",
            "_view_count": null,
            "_view_module": "@jupyter-widgets/controls",
            "_view_module_version": "1.5.0",
            "_view_name": "HBoxView",
            "box_style": "",
            "children": [
              "IPY_MODEL_d89265035e1c4c21bec6d03a52356dbe",
              "IPY_MODEL_01b8c3d7d5624ae8aaa3ddf9d1b29313",
              "IPY_MODEL_7555c899f0fd48488c4667ea3e3712bc"
            ],
            "layout": "IPY_MODEL_54a7643066e143c3bf8b2a18d982ad96"
          }
        },
        "b7da79a71f4e44839ca537559e370f7b": {
          "model_module": "@jupyter-widgets/base",
          "model_module_version": "1.2.0",
          "model_name": "LayoutModel",
          "state": {
            "_model_module": "@jupyter-widgets/base",
            "_model_module_version": "1.2.0",
            "_model_name": "LayoutModel",
            "_view_count": null,
            "_view_module": "@jupyter-widgets/base",
            "_view_module_version": "1.2.0",
            "_view_name": "LayoutView",
            "align_content": null,
            "align_items": null,
            "align_self": null,
            "border": null,
            "bottom": null,
            "display": null,
            "flex": null,
            "flex_flow": null,
            "grid_area": null,
            "grid_auto_columns": null,
            "grid_auto_flow": null,
            "grid_auto_rows": null,
            "grid_column": null,
            "grid_gap": null,
            "grid_row": null,
            "grid_template_areas": null,
            "grid_template_columns": null,
            "grid_template_rows": null,
            "height": null,
            "justify_content": null,
            "justify_items": null,
            "left": null,
            "margin": null,
            "max_height": null,
            "max_width": null,
            "min_height": null,
            "min_width": null,
            "object_fit": null,
            "object_position": null,
            "order": null,
            "overflow": null,
            "overflow_x": null,
            "overflow_y": null,
            "padding": null,
            "right": null,
            "top": null,
            "visibility": null,
            "width": null
          }
        },
        "bb679058e3274a3e8d151670ef9c7436": {
          "model_module": "@jupyter-widgets/base",
          "model_module_version": "1.2.0",
          "model_name": "LayoutModel",
          "state": {
            "_model_module": "@jupyter-widgets/base",
            "_model_module_version": "1.2.0",
            "_model_name": "LayoutModel",
            "_view_count": null,
            "_view_module": "@jupyter-widgets/base",
            "_view_module_version": "1.2.0",
            "_view_name": "LayoutView",
            "align_content": null,
            "align_items": null,
            "align_self": null,
            "border": null,
            "bottom": null,
            "display": null,
            "flex": null,
            "flex_flow": null,
            "grid_area": null,
            "grid_auto_columns": null,
            "grid_auto_flow": null,
            "grid_auto_rows": null,
            "grid_column": null,
            "grid_gap": null,
            "grid_row": null,
            "grid_template_areas": null,
            "grid_template_columns": null,
            "grid_template_rows": null,
            "height": null,
            "justify_content": null,
            "justify_items": null,
            "left": null,
            "margin": null,
            "max_height": null,
            "max_width": null,
            "min_height": null,
            "min_width": null,
            "object_fit": null,
            "object_position": null,
            "order": null,
            "overflow": null,
            "overflow_x": null,
            "overflow_y": null,
            "padding": null,
            "right": null,
            "top": null,
            "visibility": null,
            "width": null
          }
        },
        "bd046d9f8ff14dc099bf4d644fa072c1": {
          "model_module": "@jupyter-widgets/controls",
          "model_module_version": "1.5.0",
          "model_name": "DescriptionStyleModel",
          "state": {
            "_model_module": "@jupyter-widgets/controls",
            "_model_module_version": "1.5.0",
            "_model_name": "DescriptionStyleModel",
            "_view_count": null,
            "_view_module": "@jupyter-widgets/base",
            "_view_module_version": "1.2.0",
            "_view_name": "StyleView",
            "description_width": ""
          }
        },
        "c1f7347729144f9492dabbca7cb044bc": {
          "model_module": "@jupyter-widgets/controls",
          "model_module_version": "1.5.0",
          "model_name": "DescriptionStyleModel",
          "state": {
            "_model_module": "@jupyter-widgets/controls",
            "_model_module_version": "1.5.0",
            "_model_name": "DescriptionStyleModel",
            "_view_count": null,
            "_view_module": "@jupyter-widgets/base",
            "_view_module_version": "1.2.0",
            "_view_name": "StyleView",
            "description_width": ""
          }
        },
        "c21983dadd934a0197467b7fc5df303b": {
          "model_module": "@jupyter-widgets/controls",
          "model_module_version": "1.5.0",
          "model_name": "ProgressStyleModel",
          "state": {
            "_model_module": "@jupyter-widgets/controls",
            "_model_module_version": "1.5.0",
            "_model_name": "ProgressStyleModel",
            "_view_count": null,
            "_view_module": "@jupyter-widgets/base",
            "_view_module_version": "1.2.0",
            "_view_name": "StyleView",
            "bar_color": null,
            "description_width": ""
          }
        },
        "c2ac3611620d486db3510980b746070b": {
          "model_module": "@jupyter-widgets/controls",
          "model_module_version": "1.5.0",
          "model_name": "ProgressStyleModel",
          "state": {
            "_model_module": "@jupyter-widgets/controls",
            "_model_module_version": "1.5.0",
            "_model_name": "ProgressStyleModel",
            "_view_count": null,
            "_view_module": "@jupyter-widgets/base",
            "_view_module_version": "1.2.0",
            "_view_name": "StyleView",
            "bar_color": null,
            "description_width": ""
          }
        },
        "c8342eab6de4498590afc895afd6f2c8": {
          "model_module": "@jupyter-widgets/controls",
          "model_module_version": "1.5.0",
          "model_name": "DescriptionStyleModel",
          "state": {
            "_model_module": "@jupyter-widgets/controls",
            "_model_module_version": "1.5.0",
            "_model_name": "DescriptionStyleModel",
            "_view_count": null,
            "_view_module": "@jupyter-widgets/base",
            "_view_module_version": "1.2.0",
            "_view_name": "StyleView",
            "description_width": ""
          }
        },
        "c870e509a1db4d16ae1d06015680ce0c": {
          "model_module": "@jupyter-widgets/controls",
          "model_module_version": "1.5.0",
          "model_name": "HTMLModel",
          "state": {
            "_dom_classes": [],
            "_model_module": "@jupyter-widgets/controls",
            "_model_module_version": "1.5.0",
            "_model_name": "HTMLModel",
            "_view_count": null,
            "_view_module": "@jupyter-widgets/controls",
            "_view_module_version": "1.5.0",
            "_view_name": "HTMLView",
            "description": "",
            "description_tooltip": null,
            "layout": "IPY_MODEL_e11e8a4f5a974946bc9afd329477c372",
            "placeholder": "​",
            "style": "IPY_MODEL_8c1f5db7b5a946e499df31328228ef02",
            "value": " 849/849 [00:00&lt;00:00, 89.3kB/s]"
          }
        },
        "cbd30f7d7ae14741bbfd20199a3a9af7": {
          "model_module": "@jupyter-widgets/controls",
          "model_module_version": "1.5.0",
          "model_name": "DescriptionStyleModel",
          "state": {
            "_model_module": "@jupyter-widgets/controls",
            "_model_module_version": "1.5.0",
            "_model_name": "DescriptionStyleModel",
            "_view_count": null,
            "_view_module": "@jupyter-widgets/base",
            "_view_module_version": "1.2.0",
            "_view_name": "StyleView",
            "description_width": ""
          }
        },
        "cd7e7bd0d4f247d2bac16385900a0352": {
          "model_module": "@jupyter-widgets/base",
          "model_module_version": "1.2.0",
          "model_name": "LayoutModel",
          "state": {
            "_model_module": "@jupyter-widgets/base",
            "_model_module_version": "1.2.0",
            "_model_name": "LayoutModel",
            "_view_count": null,
            "_view_module": "@jupyter-widgets/base",
            "_view_module_version": "1.2.0",
            "_view_name": "LayoutView",
            "align_content": null,
            "align_items": null,
            "align_self": null,
            "border": null,
            "bottom": null,
            "display": null,
            "flex": null,
            "flex_flow": null,
            "grid_area": null,
            "grid_auto_columns": null,
            "grid_auto_flow": null,
            "grid_auto_rows": null,
            "grid_column": null,
            "grid_gap": null,
            "grid_row": null,
            "grid_template_areas": null,
            "grid_template_columns": null,
            "grid_template_rows": null,
            "height": null,
            "justify_content": null,
            "justify_items": null,
            "left": null,
            "margin": null,
            "max_height": null,
            "max_width": null,
            "min_height": null,
            "min_width": null,
            "object_fit": null,
            "object_position": null,
            "order": null,
            "overflow": null,
            "overflow_x": null,
            "overflow_y": null,
            "padding": null,
            "right": null,
            "top": null,
            "visibility": null,
            "width": null
          }
        },
        "cf5fbf1cb390481089cbe7534025a63e": {
          "model_module": "@jupyter-widgets/controls",
          "model_module_version": "1.5.0",
          "model_name": "FloatProgressModel",
          "state": {
            "_dom_classes": [],
            "_model_module": "@jupyter-widgets/controls",
            "_model_module_version": "1.5.0",
            "_model_name": "FloatProgressModel",
            "_view_count": null,
            "_view_module": "@jupyter-widgets/controls",
            "_view_module_version": "1.5.0",
            "_view_name": "ProgressView",
            "bar_style": "success",
            "description": "",
            "description_tooltip": null,
            "layout": "IPY_MODEL_5378484f9a9e45c986d145e1332e7987",
            "max": 20,
            "min": 0,
            "orientation": "horizontal",
            "style": "IPY_MODEL_c2ac3611620d486db3510980b746070b",
            "value": 20
          }
        },
        "cfaebf3664154a54ac30c34b012498fd": {
          "model_module": "@jupyter-widgets/controls",
          "model_module_version": "1.5.0",
          "model_name": "FloatProgressModel",
          "state": {
            "_dom_classes": [],
            "_model_module": "@jupyter-widgets/controls",
            "_model_module_version": "1.5.0",
            "_model_name": "FloatProgressModel",
            "_view_count": null,
            "_view_module": "@jupyter-widgets/controls",
            "_view_module_version": "1.5.0",
            "_view_name": "ProgressView",
            "bar_style": "success",
            "description": "",
            "description_tooltip": null,
            "layout": "IPY_MODEL_9f30d32c9dca4c9ba0ef602719d5b7c9",
            "max": 239,
            "min": 0,
            "orientation": "horizontal",
            "style": "IPY_MODEL_c21983dadd934a0197467b7fc5df303b",
            "value": 239
          }
        },
        "d077b9d173c0495cb401f3d625dd0e07": {
          "model_module": "@jupyter-widgets/controls",
          "model_module_version": "1.5.0",
          "model_name": "DescriptionStyleModel",
          "state": {
            "_model_module": "@jupyter-widgets/controls",
            "_model_module_version": "1.5.0",
            "_model_name": "DescriptionStyleModel",
            "_view_count": null,
            "_view_module": "@jupyter-widgets/base",
            "_view_module_version": "1.2.0",
            "_view_name": "StyleView",
            "description_width": ""
          }
        },
        "d4f846134916494d97c6ca6f109c668a": {
          "model_module": "@jupyter-widgets/controls",
          "model_module_version": "1.5.0",
          "model_name": "DescriptionStyleModel",
          "state": {
            "_model_module": "@jupyter-widgets/controls",
            "_model_module_version": "1.5.0",
            "_model_name": "DescriptionStyleModel",
            "_view_count": null,
            "_view_module": "@jupyter-widgets/base",
            "_view_module_version": "1.2.0",
            "_view_name": "StyleView",
            "description_width": ""
          }
        },
        "d89265035e1c4c21bec6d03a52356dbe": {
          "model_module": "@jupyter-widgets/controls",
          "model_module_version": "1.5.0",
          "model_name": "HTMLModel",
          "state": {
            "_dom_classes": [],
            "_model_module": "@jupyter-widgets/controls",
            "_model_module_version": "1.5.0",
            "_model_name": "HTMLModel",
            "_view_count": null,
            "_view_module": "@jupyter-widgets/controls",
            "_view_module_version": "1.5.0",
            "_view_name": "HTMLView",
            "description": "",
            "description_tooltip": null,
            "layout": "IPY_MODEL_830ad378120041678b0fa04272d1c228",
            "placeholder": "​",
            "style": "IPY_MODEL_d077b9d173c0495cb401f3d625dd0e07",
            "value": "100%"
          }
        },
        "dcbfc05586714353afd060c2f62edaa3": {
          "model_module": "@jupyter-widgets/controls",
          "model_module_version": "1.5.0",
          "model_name": "HTMLModel",
          "state": {
            "_dom_classes": [],
            "_model_module": "@jupyter-widgets/controls",
            "_model_module_version": "1.5.0",
            "_model_name": "HTMLModel",
            "_view_count": null,
            "_view_module": "@jupyter-widgets/controls",
            "_view_module_version": "1.5.0",
            "_view_name": "HTMLView",
            "description": "",
            "description_tooltip": null,
            "layout": "IPY_MODEL_905fa5762401488493fac7781f9537bf",
            "placeholder": "​",
            "style": "IPY_MODEL_337d78ebe1bd4a539fda4680cbb8f58d",
            "value": "vocab.json: 100%"
          }
        },
        "e0e24327659445ca97432609a1dabf24": {
          "model_module": "@jupyter-widgets/controls",
          "model_module_version": "1.5.0",
          "model_name": "HBoxModel",
          "state": {
            "_dom_classes": [],
            "_model_module": "@jupyter-widgets/controls",
            "_model_module_version": "1.5.0",
            "_model_name": "HBoxModel",
            "_view_count": null,
            "_view_module": "@jupyter-widgets/controls",
            "_view_module_version": "1.5.0",
            "_view_name": "HBoxView",
            "box_style": "",
            "children": [
              "IPY_MODEL_dcbfc05586714353afd060c2f62edaa3",
              "IPY_MODEL_e2b45528edba4941a689fa8896d685cd",
              "IPY_MODEL_4a4576e02be24efab5e15799a194e7ea"
            ],
            "layout": "IPY_MODEL_9cab088af7804b8c96446dda54b4fa4e"
          }
        },
        "e11e8a4f5a974946bc9afd329477c372": {
          "model_module": "@jupyter-widgets/base",
          "model_module_version": "1.2.0",
          "model_name": "LayoutModel",
          "state": {
            "_model_module": "@jupyter-widgets/base",
            "_model_module_version": "1.2.0",
            "_model_name": "LayoutModel",
            "_view_count": null,
            "_view_module": "@jupyter-widgets/base",
            "_view_module_version": "1.2.0",
            "_view_name": "LayoutView",
            "align_content": null,
            "align_items": null,
            "align_self": null,
            "border": null,
            "bottom": null,
            "display": null,
            "flex": null,
            "flex_flow": null,
            "grid_area": null,
            "grid_auto_columns": null,
            "grid_auto_flow": null,
            "grid_auto_rows": null,
            "grid_column": null,
            "grid_gap": null,
            "grid_row": null,
            "grid_template_areas": null,
            "grid_template_columns": null,
            "grid_template_rows": null,
            "height": null,
            "justify_content": null,
            "justify_items": null,
            "left": null,
            "margin": null,
            "max_height": null,
            "max_width": null,
            "min_height": null,
            "min_width": null,
            "object_fit": null,
            "object_position": null,
            "order": null,
            "overflow": null,
            "overflow_x": null,
            "overflow_y": null,
            "padding": null,
            "right": null,
            "top": null,
            "visibility": null,
            "width": null
          }
        },
        "e2b45528edba4941a689fa8896d685cd": {
          "model_module": "@jupyter-widgets/controls",
          "model_module_version": "1.5.0",
          "model_name": "FloatProgressModel",
          "state": {
            "_dom_classes": [],
            "_model_module": "@jupyter-widgets/controls",
            "_model_module_version": "1.5.0",
            "_model_name": "FloatProgressModel",
            "_view_count": null,
            "_view_module": "@jupyter-widgets/controls",
            "_view_module_version": "1.5.0",
            "_view_name": "ProgressView",
            "bar_style": "success",
            "description": "",
            "description_tooltip": null,
            "layout": "IPY_MODEL_e2efee2236ba4412940b4a390b43ea0e",
            "max": 798293,
            "min": 0,
            "orientation": "horizontal",
            "style": "IPY_MODEL_8ffeb504e53443e5bc645bf24decece6",
            "value": 798293
          }
        },
        "e2efee2236ba4412940b4a390b43ea0e": {
          "model_module": "@jupyter-widgets/base",
          "model_module_version": "1.2.0",
          "model_name": "LayoutModel",
          "state": {
            "_model_module": "@jupyter-widgets/base",
            "_model_module_version": "1.2.0",
            "_model_name": "LayoutModel",
            "_view_count": null,
            "_view_module": "@jupyter-widgets/base",
            "_view_module_version": "1.2.0",
            "_view_name": "LayoutView",
            "align_content": null,
            "align_items": null,
            "align_self": null,
            "border": null,
            "bottom": null,
            "display": null,
            "flex": null,
            "flex_flow": null,
            "grid_area": null,
            "grid_auto_columns": null,
            "grid_auto_flow": null,
            "grid_auto_rows": null,
            "grid_column": null,
            "grid_gap": null,
            "grid_row": null,
            "grid_template_areas": null,
            "grid_template_columns": null,
            "grid_template_rows": null,
            "height": null,
            "justify_content": null,
            "justify_items": null,
            "left": null,
            "margin": null,
            "max_height": null,
            "max_width": null,
            "min_height": null,
            "min_width": null,
            "object_fit": null,
            "object_position": null,
            "order": null,
            "overflow": null,
            "overflow_x": null,
            "overflow_y": null,
            "padding": null,
            "right": null,
            "top": null,
            "visibility": null,
            "width": null
          }
        },
        "e60c45e74063433686f568f5d4c0019a": {
          "model_module": "@jupyter-widgets/controls",
          "model_module_version": "1.5.0",
          "model_name": "HBoxModel",
          "state": {
            "_dom_classes": [],
            "_model_module": "@jupyter-widgets/controls",
            "_model_module_version": "1.5.0",
            "_model_name": "HBoxModel",
            "_view_count": null,
            "_view_module": "@jupyter-widgets/controls",
            "_view_module_version": "1.5.0",
            "_view_name": "HBoxView",
            "box_style": "",
            "children": [
              "IPY_MODEL_12f214658ab94229bee9d00978d46f23",
              "IPY_MODEL_552bb18f3aa048f1b001e68e38249fa2",
              "IPY_MODEL_61ea03b9d6ad4bc0b15385da545a49e0"
            ],
            "layout": "IPY_MODEL_bb679058e3274a3e8d151670ef9c7436"
          }
        },
        "e6361fc712144f72bb817668fd3837a2": {
          "model_module": "@jupyter-widgets/controls",
          "model_module_version": "1.5.0",
          "model_name": "HTMLModel",
          "state": {
            "_dom_classes": [],
            "_model_module": "@jupyter-widgets/controls",
            "_model_module_version": "1.5.0",
            "_model_name": "HTMLModel",
            "_view_count": null,
            "_view_module": "@jupyter-widgets/controls",
            "_view_module_version": "1.5.0",
            "_view_name": "HTMLView",
            "description": "",
            "description_tooltip": null,
            "layout": "IPY_MODEL_499ec3de967b423ba4b86c3f9c5b5a7b",
            "placeholder": "​",
            "style": "IPY_MODEL_f548a418b8864fd0bbd7e51e5204896d",
            "value": " 255/255 [00:00&lt;00:00, 17.3kB/s]"
          }
        },
        "e6be155d71aa4b399265b6dc914a2f5f": {
          "model_module": "@jupyter-widgets/base",
          "model_module_version": "1.2.0",
          "model_name": "LayoutModel",
          "state": {
            "_model_module": "@jupyter-widgets/base",
            "_model_module_version": "1.2.0",
            "_model_name": "LayoutModel",
            "_view_count": null,
            "_view_module": "@jupyter-widgets/base",
            "_view_module_version": "1.2.0",
            "_view_name": "LayoutView",
            "align_content": null,
            "align_items": null,
            "align_self": null,
            "border": null,
            "bottom": null,
            "display": null,
            "flex": null,
            "flex_flow": null,
            "grid_area": null,
            "grid_auto_columns": null,
            "grid_auto_flow": null,
            "grid_auto_rows": null,
            "grid_column": null,
            "grid_gap": null,
            "grid_row": null,
            "grid_template_areas": null,
            "grid_template_columns": null,
            "grid_template_rows": null,
            "height": null,
            "justify_content": null,
            "justify_items": null,
            "left": null,
            "margin": null,
            "max_height": null,
            "max_width": null,
            "min_height": null,
            "min_width": null,
            "object_fit": null,
            "object_position": null,
            "order": null,
            "overflow": null,
            "overflow_x": null,
            "overflow_y": null,
            "padding": null,
            "right": null,
            "top": null,
            "visibility": null,
            "width": null
          }
        },
        "e8bfc68eda394b34a3ee94051233a4b0": {
          "model_module": "@jupyter-widgets/controls",
          "model_module_version": "1.5.0",
          "model_name": "DescriptionStyleModel",
          "state": {
            "_model_module": "@jupyter-widgets/controls",
            "_model_module_version": "1.5.0",
            "_model_name": "DescriptionStyleModel",
            "_view_count": null,
            "_view_module": "@jupyter-widgets/base",
            "_view_module_version": "1.2.0",
            "_view_name": "StyleView",
            "description_width": ""
          }
        },
        "ed8cdecbe363457980560b40bddfff6c": {
          "model_module": "@jupyter-widgets/base",
          "model_module_version": "1.2.0",
          "model_name": "LayoutModel",
          "state": {
            "_model_module": "@jupyter-widgets/base",
            "_model_module_version": "1.2.0",
            "_model_name": "LayoutModel",
            "_view_count": null,
            "_view_module": "@jupyter-widgets/base",
            "_view_module_version": "1.2.0",
            "_view_name": "LayoutView",
            "align_content": null,
            "align_items": null,
            "align_self": null,
            "border": null,
            "bottom": null,
            "display": null,
            "flex": null,
            "flex_flow": null,
            "grid_area": null,
            "grid_auto_columns": null,
            "grid_auto_flow": null,
            "grid_auto_rows": null,
            "grid_column": null,
            "grid_gap": null,
            "grid_row": null,
            "grid_template_areas": null,
            "grid_template_columns": null,
            "grid_template_rows": null,
            "height": null,
            "justify_content": null,
            "justify_items": null,
            "left": null,
            "margin": null,
            "max_height": null,
            "max_width": null,
            "min_height": null,
            "min_width": null,
            "object_fit": null,
            "object_position": null,
            "order": null,
            "overflow": null,
            "overflow_x": null,
            "overflow_y": null,
            "padding": null,
            "right": null,
            "top": null,
            "visibility": null,
            "width": null
          }
        },
        "ee2b420f76cf4943a16056b02ef948bd": {
          "model_module": "@jupyter-widgets/base",
          "model_module_version": "1.2.0",
          "model_name": "LayoutModel",
          "state": {
            "_model_module": "@jupyter-widgets/base",
            "_model_module_version": "1.2.0",
            "_model_name": "LayoutModel",
            "_view_count": null,
            "_view_module": "@jupyter-widgets/base",
            "_view_module_version": "1.2.0",
            "_view_name": "LayoutView",
            "align_content": null,
            "align_items": null,
            "align_self": null,
            "border": null,
            "bottom": null,
            "display": null,
            "flex": null,
            "flex_flow": null,
            "grid_area": null,
            "grid_auto_columns": null,
            "grid_auto_flow": null,
            "grid_auto_rows": null,
            "grid_column": null,
            "grid_gap": null,
            "grid_row": null,
            "grid_template_areas": null,
            "grid_template_columns": null,
            "grid_template_rows": null,
            "height": null,
            "justify_content": null,
            "justify_items": null,
            "left": null,
            "margin": null,
            "max_height": null,
            "max_width": null,
            "min_height": null,
            "min_width": null,
            "object_fit": null,
            "object_position": null,
            "order": null,
            "overflow": null,
            "overflow_x": null,
            "overflow_y": null,
            "padding": null,
            "right": null,
            "top": null,
            "visibility": null,
            "width": null
          }
        },
        "ef269b812e854c9d88c285d5c6c6dce1": {
          "model_module": "@jupyter-widgets/controls",
          "model_module_version": "1.5.0",
          "model_name": "HTMLModel",
          "state": {
            "_dom_classes": [],
            "_model_module": "@jupyter-widgets/controls",
            "_model_module_version": "1.5.0",
            "_model_name": "HTMLModel",
            "_view_count": null,
            "_view_module": "@jupyter-widgets/controls",
            "_view_module_version": "1.5.0",
            "_view_name": "HTMLView",
            "description": "",
            "description_tooltip": null,
            "layout": "IPY_MODEL_165e43f3007b4cda8c89669c061c0e87",
            "placeholder": "​",
            "style": "IPY_MODEL_73e8f5c594f4479186489426dbe76973",
            "value": "model.safetensors: 100%"
          }
        },
        "f2582b98820f4138a68b81945f5949b8": {
          "model_module": "@jupyter-widgets/controls",
          "model_module_version": "1.5.0",
          "model_name": "HBoxModel",
          "state": {
            "_dom_classes": [],
            "_model_module": "@jupyter-widgets/controls",
            "_model_module_version": "1.5.0",
            "_model_name": "HBoxModel",
            "_view_count": null,
            "_view_module": "@jupyter-widgets/controls",
            "_view_module_version": "1.5.0",
            "_view_name": "HBoxView",
            "box_style": "",
            "children": [
              "IPY_MODEL_4cc75fa7936c4f35bd0b74f4f8a06e1f",
              "IPY_MODEL_40c82979192e45f596c3ba9b5e855257",
              "IPY_MODEL_e6361fc712144f72bb817668fd3837a2"
            ],
            "layout": "IPY_MODEL_02e799ca5d394e7daadcee9573ea138e"
          }
        },
        "f38e3fd7ac18445991038cd0cb49fc7f": {
          "model_module": "@jupyter-widgets/base",
          "model_module_version": "1.2.0",
          "model_name": "LayoutModel",
          "state": {
            "_model_module": "@jupyter-widgets/base",
            "_model_module_version": "1.2.0",
            "_model_name": "LayoutModel",
            "_view_count": null,
            "_view_module": "@jupyter-widgets/base",
            "_view_module_version": "1.2.0",
            "_view_name": "LayoutView",
            "align_content": null,
            "align_items": null,
            "align_self": null,
            "border": null,
            "bottom": null,
            "display": null,
            "flex": null,
            "flex_flow": null,
            "grid_area": null,
            "grid_auto_columns": null,
            "grid_auto_flow": null,
            "grid_auto_rows": null,
            "grid_column": null,
            "grid_gap": null,
            "grid_row": null,
            "grid_template_areas": null,
            "grid_template_columns": null,
            "grid_template_rows": null,
            "height": null,
            "justify_content": null,
            "justify_items": null,
            "left": null,
            "margin": null,
            "max_height": null,
            "max_width": null,
            "min_height": null,
            "min_width": null,
            "object_fit": null,
            "object_position": null,
            "order": null,
            "overflow": null,
            "overflow_x": null,
            "overflow_y": null,
            "padding": null,
            "right": null,
            "top": null,
            "visibility": null,
            "width": null
          }
        },
        "f548a418b8864fd0bbd7e51e5204896d": {
          "model_module": "@jupyter-widgets/controls",
          "model_module_version": "1.5.0",
          "model_name": "DescriptionStyleModel",
          "state": {
            "_model_module": "@jupyter-widgets/controls",
            "_model_module_version": "1.5.0",
            "_model_name": "DescriptionStyleModel",
            "_view_count": null,
            "_view_module": "@jupyter-widgets/base",
            "_view_module_version": "1.2.0",
            "_view_name": "StyleView",
            "description_width": ""
          }
        },
        "ff9f4ce343c340cba882bf16e9c0b623": {
          "model_module": "@jupyter-widgets/controls",
          "model_module_version": "1.5.0",
          "model_name": "HBoxModel",
          "state": {
            "_dom_classes": [],
            "_model_module": "@jupyter-widgets/controls",
            "_model_module_version": "1.5.0",
            "_model_name": "HBoxModel",
            "_view_count": null,
            "_view_module": "@jupyter-widgets/controls",
            "_view_module_version": "1.5.0",
            "_view_name": "HBoxView",
            "box_style": "",
            "children": [
              "IPY_MODEL_298ac2bbfeeb48a7b010f0f4e965c7bd",
              "IPY_MODEL_cf5fbf1cb390481089cbe7534025a63e",
              "IPY_MODEL_05715e2288984524984e718f99d88ccc"
            ],
            "layout": "IPY_MODEL_26b58ae46ce8488a86baf5c5eaffb153"
          }
        }
      }
    }
  },
  "nbformat": 4,
  "nbformat_minor": 0
}
